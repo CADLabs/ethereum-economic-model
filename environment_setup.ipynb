{
 "cells": [
  {
   "cell_type": "markdown",
   "id": "9c11bedd",
   "metadata": {},
   "source": [
    "# Environment Setup"
   ]
  },
  {
   "cell_type": "markdown",
   "id": "8a4860f0",
   "metadata": {},
   "source": [
    "## Check Python version\n",
    "\n",
    "Should be version 3.7, 3.8, or 3.9. The model is tested against all three versions, and the masterclass uses version 3.8."
   ]
  },
  {
   "cell_type": "code",
   "execution_count": null,
   "id": "c091eedf",
   "metadata": {},
   "outputs": [],
   "source": [
    "!python --version"
   ]
  },
  {
   "cell_type": "markdown",
   "id": "57359103",
   "metadata": {},
   "source": [
    "## Install dependencies"
   ]
  },
  {
   "cell_type": "code",
   "execution_count": null,
   "id": "a8175614",
   "metadata": {},
   "outputs": [],
   "source": [
    "!pip install -r requirements.txt"
   ]
  },
  {
   "cell_type": "markdown",
   "id": "1ccfbbab",
   "metadata": {},
   "source": [
    "## Check package version\n",
    "\n",
    "Both of the below operations should show the same package version."
   ]
  },
  {
   "cell_type": "code",
   "execution_count": null,
   "id": "e7cc8d94",
   "metadata": {},
   "outputs": [],
   "source": [
    "!pip show radcad"
   ]
  },
  {
   "cell_type": "code",
   "execution_count": null,
   "id": "bd999437",
   "metadata": {},
   "outputs": [],
   "source": [
    "import radcad"
   ]
  },
  {
   "cell_type": "code",
   "execution_count": null,
   "id": "6c5b1f24",
   "metadata": {},
   "outputs": [],
   "source": [
    "radcad.__version__"
   ]
  },
  {
   "cell_type": "markdown",
   "id": "ac724e86",
   "metadata": {},
   "source": [
    "## Check Plotly output\n",
    "\n",
    "Should render a line chart."
   ]
  },
  {
   "cell_type": "code",
   "execution_count": null,
   "id": "99b446ac",
   "metadata": {},
   "outputs": [],
   "source": [
    "import plotly.express as px\n",
    "\n",
    "px.line(x=[0, 1, 2], y=[0, 1, 2])"
   ]
  }
 ],
 "metadata": {
  "kernelspec": {
   "display_name": "Python 3",
   "language": "python",
   "name": "python3"
  },
  "language_info": {
   "codemirror_mode": {
    "name": "ipython",
    "version": 3
   },
   "file_extension": ".py",
   "mimetype": "text/x-python",
   "name": "python",
   "nbconvert_exporter": "python",
   "pygments_lexer": "ipython3",
   "version": "3.8.5"
  }
 },
 "nbformat": 4,
 "nbformat_minor": 5
}
