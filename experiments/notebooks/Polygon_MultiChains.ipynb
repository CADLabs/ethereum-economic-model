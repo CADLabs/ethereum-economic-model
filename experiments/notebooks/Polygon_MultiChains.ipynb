{
 "cells": [
  {
   "cell_type": "markdown",
   "metadata": {},
   "source": [
    "# Experiment Notebook: {Descriptive Experiment Keywords}"
   ]
  },
  {
   "cell_type": "markdown",
   "metadata": {},
   "source": [
    "# Table of Contents\n",
    "* [Experiment Summary](#Experiment-Summary)\n",
    "* [Experiment Assumptions](#Experiment-Assumptions)\n",
    "* [Experiment Setup](#Experiment-Setup)\n",
    "* [Analysis 1: ...](#Analysis-1:-...)"
   ]
  },
  {
   "cell_type": "markdown",
   "metadata": {},
   "source": [
    "# Experiment Summary \n",
    "\n",
    "The purpose of this notebook is to...\n",
    "\n",
    "# Experiment Assumptions\n",
    "\n",
    "See [assumptions document](../../ASSUMPTIONS.md) for further details."
   ]
  },
  {
   "cell_type": "markdown",
   "metadata": {},
   "source": [
    "# Experiment Setup\n",
    "\n",
    "We begin with several experiment-notebook-level preparatory setup operations:\n",
    "\n",
    "* Import relevant dependencies\n",
    "* Import relevant experiment templates\n",
    "* Create copies of experiments\n",
    "* Configure and customize experiments \n",
    "\n",
    "Analysis-specific setup operations are handled in their respective notebook sections."
   ]
  },
  {
   "cell_type": "code",
   "execution_count": 1,
   "metadata": {},
   "outputs": [
    {
     "name": "stderr",
     "output_type": "stream",
     "text": [
      "WARNING:root:SUBGRAPH_API_KEY not defined\n"
     ]
    },
    {
     "ename": "AttributeError",
     "evalue": "module 'data.api.etherscan' has no attribute 'get_polygn_supply'",
     "output_type": "error",
     "traceback": [
      "\u001b[0;31m---------------------------------------------------------------------------\u001b[0m",
      "\u001b[0;31mAttributeError\u001b[0m                            Traceback (most recent call last)",
      "Cell \u001b[0;32mIn[1], line 12\u001b[0m\n\u001b[1;32m      9\u001b[0m \u001b[39mimport\u001b[39;00m \u001b[39mpandas\u001b[39;00m \u001b[39mas\u001b[39;00m \u001b[39mpd\u001b[39;00m\n\u001b[1;32m     10\u001b[0m \u001b[39mimport\u001b[39;00m \u001b[39mplotly\u001b[39;00m\u001b[39m.\u001b[39;00m\u001b[39mexpress\u001b[39;00m \u001b[39mas\u001b[39;00m \u001b[39mpx\u001b[39;00m\n\u001b[0;32m---> 12\u001b[0m \u001b[39mimport\u001b[39;00m \u001b[39mexperiments\u001b[39;00m\u001b[39m.\u001b[39;00m\u001b[39mnotebooks\u001b[39;00m\u001b[39m.\u001b[39;00m\u001b[39mvisualizations\u001b[39;00m \u001b[39mas\u001b[39;00m \u001b[39mvisualizations\u001b[39;00m\n\u001b[1;32m     13\u001b[0m \u001b[39mfrom\u001b[39;00m \u001b[39mexperiments\u001b[39;00m\u001b[39m.\u001b[39;00m\u001b[39mrun\u001b[39;00m \u001b[39mimport\u001b[39;00m run\n\u001b[1;32m     14\u001b[0m \u001b[39mfrom\u001b[39;00m \u001b[39mexperiments\u001b[39;00m\u001b[39m.\u001b[39;00m\u001b[39mutils\u001b[39;00m \u001b[39mimport\u001b[39;00m display_code\n",
      "File \u001b[0;32m~/Desktop/polygon/cadCAD/polygon-economic-model/experiments/notebooks/visualizations/__init__.py:15\u001b[0m\n\u001b[1;32m      9\u001b[0m \u001b[39mfrom\u001b[39;00m \u001b[39mplotly\u001b[39;00m\u001b[39m.\u001b[39;00m\u001b[39msubplots\u001b[39;00m \u001b[39mimport\u001b[39;00m make_subplots\n\u001b[1;32m     11\u001b[0m \u001b[39mfrom\u001b[39;00m \u001b[39mexperiments\u001b[39;00m\u001b[39m.\u001b[39;00m\u001b[39mnotebooks\u001b[39;00m\u001b[39m.\u001b[39;00m\u001b[39mvisualizations\u001b[39;00m\u001b[39m.\u001b[39;00m\u001b[39mplotly_theme\u001b[39;00m \u001b[39mimport\u001b[39;00m (\n\u001b[1;32m     12\u001b[0m     cadlabs_colors,\n\u001b[1;32m     13\u001b[0m     cadlabs_colorway_sequence,\n\u001b[1;32m     14\u001b[0m )\n\u001b[0;32m---> 15\u001b[0m \u001b[39mfrom\u001b[39;00m \u001b[39mmodel\u001b[39;00m\u001b[39m.\u001b[39;00m\u001b[39msystem_parameters\u001b[39;00m \u001b[39mimport\u001b[39;00m parameters, validator_environments\n\u001b[1;32m     16\u001b[0m \u001b[39mimport\u001b[39;00m \u001b[39mmodel\u001b[39;00m\u001b[39m.\u001b[39;00m\u001b[39mconstants\u001b[39;00m \u001b[39mas\u001b[39;00m \u001b[39mconstants\u001b[39;00m\n\u001b[1;32m     19\u001b[0m \u001b[39m# Set plotly as the default plotting backend for pandas\u001b[39;00m\n",
      "File \u001b[0;32m~/Desktop/polygon/cadCAD/polygon-economic-model/model/__init__.py:9\u001b[0m\n\u001b[1;32m      6\u001b[0m \u001b[39mfrom\u001b[39;00m \u001b[39mradcad\u001b[39;00m \u001b[39mimport\u001b[39;00m Model\n\u001b[1;32m      8\u001b[0m \u001b[39mfrom\u001b[39;00m \u001b[39mmodel\u001b[39;00m\u001b[39m.\u001b[39;00m\u001b[39msystem_parameters\u001b[39;00m \u001b[39mimport\u001b[39;00m parameters\n\u001b[0;32m----> 9\u001b[0m \u001b[39mfrom\u001b[39;00m \u001b[39mmodel\u001b[39;00m\u001b[39m.\u001b[39;00m\u001b[39mstate_variables\u001b[39;00m \u001b[39mimport\u001b[39;00m initial_state\n\u001b[1;32m     10\u001b[0m \u001b[39mfrom\u001b[39;00m \u001b[39mmodel\u001b[39;00m\u001b[39m.\u001b[39;00m\u001b[39mstate_update_blocks\u001b[39;00m \u001b[39mimport\u001b[39;00m state_update_blocks\n\u001b[1;32m     13\u001b[0m \u001b[39m# Instantiate a new Model\u001b[39;00m\n",
      "File \u001b[0;32m~/Desktop/polygon/cadCAD/polygon-economic-model/model/state_variables.py:40\u001b[0m\n\u001b[1;32m     37\u001b[0m number_of_active_validators: \u001b[39mint\u001b[39m \u001b[39m=\u001b[39m \u001b[39m100\u001b[39m\n\u001b[1;32m     38\u001b[0m polygn_staked: POLYGN \u001b[39m=\u001b[39m \u001b[39m3_000_000_000e9\u001b[39m \u001b[39m/\u001b[39m constants\u001b[39m.\u001b[39mgwei\n\u001b[1;32m     39\u001b[0m polygn_supply: POLYGN \u001b[39m=\u001b[39m (\n\u001b[0;32m---> 40\u001b[0m     etherscan\u001b[39m.\u001b[39;49mget_polygn_supply(default\u001b[39m=\u001b[39m\u001b[39m10_000_000_000e18\u001b[39m) \u001b[39m/\u001b[39m constants\u001b[39m.\u001b[39mwei\n\u001b[1;32m     41\u001b[0m )\n\u001b[1;32m     44\u001b[0m \u001b[39m@dataclass\u001b[39m\n\u001b[1;32m     45\u001b[0m \u001b[39mclass\u001b[39;00m \u001b[39mStateVariables\u001b[39;00m:\n\u001b[1;32m     46\u001b[0m     \u001b[39m\"\"\"State Variables\u001b[39;00m\n\u001b[1;32m     47\u001b[0m \u001b[39m    Each State Variable is defined as:\u001b[39;00m\n\u001b[1;32m     48\u001b[0m \u001b[39m    state variable key: state variable type = default state variable value\u001b[39;00m\n\u001b[1;32m     49\u001b[0m \u001b[39m    \"\"\"\u001b[39;00m\n",
      "\u001b[0;31mAttributeError\u001b[0m: module 'data.api.etherscan' has no attribute 'get_polygn_supply'"
     ]
    },
    {
     "name": "stdout",
     "output_type": "stream",
     "text": [
      "time: 2.75 s (started: 2022-12-06 17:59:54 +08:00)\n"
     ]
    }
   ],
   "source": [
    "# Import the setup module:\n",
    "# * sets up the Python path\n",
    "# * runs shared notebook configuration methods, such as loading IPython modules\n",
    "import setup\n",
    "\n",
    "import copy\n",
    "import logging\n",
    "import numpy as np\n",
    "import pandas as pd\n",
    "import plotly.express as px\n",
    "\n",
    "import experiments.notebooks.visualizations as visualizations\n",
    "from experiments.run import run\n",
    "from experiments.utils import display_code"
   ]
  },
  {
   "cell_type": "code",
   "execution_count": null,
   "metadata": {},
   "outputs": [],
   "source": [
    "# Enable/disable logging\n",
    "logger = logging.getLogger()\n",
    "logger.disabled = False"
   ]
  },
  {
   "cell_type": "code",
   "execution_count": null,
   "metadata": {},
   "outputs": [],
   "source": [
    "# Import experiment templates\n",
    "import experiments.templates.polygn_time_domain_analysis as time_domain_analysis"
   ]
  },
  {
   "cell_type": "code",
   "execution_count": null,
   "metadata": {},
   "outputs": [],
   "source": [
    "# Inspect experiment template\n",
    "display_code(default_experiment)"
   ]
  },
  {
   "cell_type": "code",
   "execution_count": null,
   "metadata": {},
   "outputs": [],
   "source": [
    "# Create a simulation for each analysis\n",
    "simulation_1a = copy.deepcopy(time_domain_analysis.experiment.simulations[0])"
   ]
  },
  {
   "cell_type": "code",
   "execution_count": null,
   "metadata": {},
   "outputs": [],
   "source": [
    "# Experiment configuration\n",
    "simulation_1a.model.initial_state.update({})\n",
    "\n",
    "simulation_1a.model.params.update({})"
   ]
  },
  {
   "cell_type": "markdown",
   "metadata": {},
   "source": [
    "# Analysis 1: ..."
   ]
  },
  {
   "cell_type": "markdown",
   "metadata": {},
   "source": [
    "{Analysis Description}"
   ]
  },
  {
   "cell_type": "code",
   "execution_count": null,
   "metadata": {},
   "outputs": [],
   "source": [
    "# Analysis-specific setup\n",
    "normal_adoption = simulation_1a.model.params['validator_process'][0](_run=None, _timestep=None)\n",
    "simulation_1a.model.params.update({\n",
    "    'validator_process': [\n",
    "        lambda _run, _timestep: normal_adoption,  # Normal adoption: current 6-month average active validators per epoch from The Graph Subgraph\n",
    "        lambda _run, _timestep: normal_adoption * 0.5,  # Low adoption: 50%-lower scenario\n",
    "        lambda _run, _timestep: normal_adoption * 1.5,  # High adoption: 50%-higher scenario\n",
    "    ],  # New validators per epoch\n",
    "})"
   ]
  },
  {
   "cell_type": "code",
   "execution_count": null,
   "metadata": {},
   "outputs": [],
   "source": [
    "# Experiment execution\n",
    "df_1a, _exceptions = run(simulation_1a)"
   ]
  },
  {
   "cell_type": "code",
   "execution_count": null,
   "metadata": {},
   "outputs": [],
   "source": [
    "print(df_1a)"
   ]
  },
  {
   "cell_type": "code",
   "execution_count": null,
   "metadata": {},
   "outputs": [],
   "source": [
    "# Post-processing and visualizations\n",
    "visualizations.plot_number_of_validators_per_subset(df_1a, scenario_names={0: \"Normal Adoption\", 1: \"Low Adoption\", 2: \"High Adoption\"})"
   ]
  }
 ],
 "metadata": {
  "kernelspec": {
   "display_name": "Python 3.8.9 ('venv': venv)",
   "language": "python",
   "name": "python3"
  },
  "language_info": {
   "codemirror_mode": {
    "name": "ipython",
    "version": 3
   },
   "file_extension": ".py",
   "mimetype": "text/x-python",
   "name": "python",
   "nbconvert_exporter": "python",
   "pygments_lexer": "ipython3",
   "version": "3.8.9"
  },
  "vscode": {
   "interpreter": {
    "hash": "bc2a5f430c1f7a23048f7be5c3d24ec35cdfcca1aef70529b17f1c3c79474e6d"
   }
  }
 },
 "nbformat": 4,
 "nbformat_minor": 4
}
