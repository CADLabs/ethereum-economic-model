{
 "cells": [
  {
   "cell_type": "markdown",
   "id": "980e74ab-1267-4cee-bea5-60d38997d0ac",
   "metadata": {},
   "source": [
    "# Experiment Notebook: Validator Revenue and Profit Yields"
   ]
  },
  {
   "cell_type": "markdown",
   "id": "e78fd216-f680-45e9-9b23-42bb8d017063",
   "metadata": {},
   "source": [
    "# Table of Contents\n",
    "* [Experiment Summary](#Experiment-Summary)\n",
    "* [Experiment Assumptions](#Experiment-Assumptions)\n",
    "* [Experiment Setup](#Experiment-Setup)\n",
    "* [Analysis 1: Revenue and Profit Yields Over Time](#Analysis-1:-Revenue-and-Profit-Yields-Over-Time)\n",
    "* [Analysis 2: Revenue and Profit Yields Over ETH Staked](#Analysis-2:-Revenue-and-Profit-Yields-Over-ETH-Staked)\n",
    "* [Analysis 3: Revenue and Profit Yields Over ETH Price](#Analysis-3:-Revenue-and-Profit-Yields-Over-ETH-Price)\n",
    "* [Analysis 4: Profit Yields Over ETH Staked vs. ETH Price (Yield Surface)](#Analysis-4:-Profit-Yields-Over-ETH-Staked-vs.-ETH-Price)\n",
    "* [Analysis 5: Profit Yields By Validator Environment Over Time](#Analysis-5:-Profit-Yields-By-Validator-Environment-Over-Time)"
   ]
  },
  {
   "cell_type": "markdown",
   "id": "1fe8238f-f7c9-49f7-8ce9-bc20c2230d58",
   "metadata": {},
   "source": [
    "# Experiment Summary \n",
    "\n",
    "The purpose of this notebook is to explore the returns validators can expect from staking in the Ethereum protocol across different time horizons, adoption scenarios, ETH price scenarios, and validator environments.\n",
    "\n",
    "# Experiment Assumptions\n",
    "\n",
    "See [assumptions document](../../ASSUMPTIONS.md) for further details."
   ]
  },
  {
   "cell_type": "markdown",
   "id": "d2ee6596-0ab4-4005-a419-6ab7f7df3a41",
   "metadata": {},
   "source": [
    "# Experiment Setup\n",
    "\n",
    "We begin with several experiment-notebook-level preparatory setup operations:\n",
    "\n",
    "* Import relevant dependencies\n",
    "* Import relevant experiment templates\n",
    "* Create copies of experiments\n",
    "* Configure and customize experiments \n",
    "\n",
    "Analysis-specific setup operations are handled in their respective notebook sections."
   ]
  },
  {
   "cell_type": "code",
   "execution_count": null,
   "id": "36cb36e1-1561-4357-a25b-b339f370bfcd",
   "metadata": {},
   "outputs": [],
   "source": [
    "import setup\n",
    "\n",
    "import copy\n",
    "import logging\n",
    "import numpy as np\n",
    "import pandas as pd\n",
    "\n",
    "import experiments.notebooks.visualizations as visualizations\n",
    "import model.constants as constants\n",
    "from experiments.run import run\n",
    "from experiments.utils import inspect_module\n",
    "from model.types import Stage\n",
    "from model.system_parameters import validator_environments\n",
    "from model.state_variables import eth_staked, eth_supply"
   ]
  },
  {
   "cell_type": "code",
   "execution_count": null,
   "id": "821a3740-56d1-4399-9053-ea76659bf389",
   "metadata": {},
   "outputs": [],
   "source": [
    "# Enable/disable logging\n",
    "logger = logging.getLogger()\n",
    "logger.disabled = True"
   ]
  },
  {
   "cell_type": "code",
   "execution_count": null,
   "id": "1a55f5b4-fb61-4333-a5ad-f7482a62b7ce",
   "metadata": {},
   "outputs": [],
   "source": [
    "# Import experiment templates\n",
    "import experiments.templates.time_domain_analysis as time_domain_analysis\n",
    "import experiments.templates.eth_staked_sweep_analysis as eth_staked_sweep_analysis\n",
    "import experiments.templates.eth_price_sweep_analysis as eth_price_sweep_analysis\n",
    "import experiments.templates.eth_price_eth_staked_grid_analysis as eth_price_eth_staked_grid_analysis"
   ]
  },
  {
   "cell_type": "code",
   "execution_count": null,
   "id": "68ca6d0d-4f8a-47ea-bd56-50715d25a2f6",
   "metadata": {},
   "outputs": [],
   "source": [
    "# Create a new copy of the relevant simulation for each analysis\n",
    "simulation_1 = copy.deepcopy(time_domain_analysis.experiment.simulations[0])\n",
    "simulation_2 = copy.deepcopy(eth_staked_sweep_analysis.experiment.simulations[0])\n",
    "simulation_3 = copy.deepcopy(eth_price_sweep_analysis.experiment.simulations[0])\n",
    "simulation_4 = copy.deepcopy(eth_price_eth_staked_grid_analysis.experiment.simulations[0])\n",
    "simulation_5 = copy.deepcopy(time_domain_analysis.experiment.simulations[0])"
   ]
  },
  {
   "cell_type": "markdown",
   "id": "069a26f9-48a4-4381-a5d2-90a336159680",
   "metadata": {},
   "source": [
    "# Analysis 1: Revenue and Profit Yields Over Time\n",
    "\n",
    "This analysis allows the exploration of revenue and profit yields over time, and across three adoption scenarios:\n",
    "\n",
    "* Normal adoption: assumes the current average of 3 new validators per-epoch from Beaconscan over the last 6 months\n",
    "* Low adoption: assumes a 50% lower than average scenario\n",
    "* High adoption: assumes a 50% higher than average scenario\n",
    "\n",
    "The first chart (\"Validator Adoption Scenarios\") visualizes the three adoption scenarios (i.e. implied ETH staked over time) underlying Analysis 1. Please note that the High Adoption Scenario has non-linear dynamics due to the validator activation queue rate limiting. To create custom adoption scenarios, add another entry to the `validator_process` System Parameter, with either a static per-epoch validator adoption rate, or generate a time-series using the current timestep to index the data.\n",
    "\n",
    "The second chart (\"Revenue and Profit Yields Over Time - At a Glance\") visualizes both revenue and profit yields over time and across the three adoption scenarios (i.e. implied ETH staked over time). The ETH price (relevant for profit yields) is by default set to the mean ETH price over the last 12 months. The higher the adoption, the lower both revenue and profit yields. The higher the ETH price, the higher the profit yields - whereas validator operational costs are fixed in dollars, returns are in ETH and their equivalent dollar value depends on the current ETH price.\n",
    "\n",
    "The third chart (\"Revenue or Profit Yields Over Time\") visualizes revenue yields or profit yields (choose using button selector) over the chosen time frame, and across the three adoption scenarios  (i.e. implied ETH staked over time) and ETH price range. In simple terms, this chart visualizes how validators can expect the yield dynamics to change over different adoption and price scenarios. The higher the adoption, the lower both revenue and profit yields. The higher the price, the higher the profit yields.\n",
    "\n",
    "The fourth chart (\"Cumulative Average Revenue or Profit Yields Over Time\") visualizes the cumulative average revenue yields or profit yields (choose via button selector) over the chosen time frame, and across the three adoption scenarios (i.e. implied ETH staked over time) and ETH price range. In simple terms, this chart visualizes the effective yields a validator can expect over the respective time horizons if they start validating today. The higher the adoption, the lower both revenue and profit yields. The higher the price, the higher the profit yields."
   ]
  },
  {
   "cell_type": "code",
   "execution_count": null,
   "id": "88cf244f-edb8-4bff-a2c2-1caeb0d569e6",
   "metadata": {},
   "outputs": [],
   "source": [
    "simulation_1.model.params.update({\n",
    "    'stage': [Stage.BEACON_CHAIN],\n",
    "    'validator_process': [\n",
    "        lambda _run, _timestep: 3,  # Normal adoption: current average active validators per epoch from Beaconscan\n",
    "        lambda _run, _timestep: 3 * 0.5,  # Low adoption: 50% lower scenario\n",
    "        lambda _run, _timestep: 3 * 1.5,  # High adoption: 50% higher scenario\n",
    "    ],  # New validators per-epoch\n",
    "})"
   ]
  },
  {
   "cell_type": "code",
   "execution_count": null,
   "id": "fe1bf1d8-2a1f-41f6-9d3f-febb81d6f9a0",
   "metadata": {},
   "outputs": [],
   "source": [
    "df_1, _exceptions = run(simulation_1)"
   ]
  },
  {
   "cell_type": "code",
   "execution_count": null,
   "id": "66009dbf-e669-4dba-9523-6332ef391fa1",
   "metadata": {},
   "outputs": [],
   "source": [
    "visualizations.plot_number_of_validators_over_time_foreach_subset(df_1)"
   ]
  },
  {
   "cell_type": "markdown",
   "id": "ac6c4a03-1038-40c5-a5c6-6066f9f09c99",
   "metadata": {},
   "source": [
    "The charts below visualize revenue and profit yields over time and across the three adoption scenarios shown above (i.e. implied ETH staked over time). The higher the adoption, the lower both revenue and profit yields."
   ]
  },
  {
   "cell_type": "code",
   "execution_count": null,
   "id": "cd91c2fc-f5b8-4881-ac41-410b508c018c",
   "metadata": {},
   "outputs": [],
   "source": [
    "visualizations.plot_revenue_profit_yields_over_time_foreach_subset_subplots(\n",
    "    df_1,\n",
    "    subplot_titles=['Normal Validator Adoption', 'Low Validator Adoption', 'High Validator Adoption']\n",
    ")"
   ]
  },
  {
   "cell_type": "code",
   "execution_count": null,
   "id": "57ab3632-261b-4625-bbb9-9f9f057c171d",
   "metadata": {},
   "outputs": [],
   "source": [
    "visualizations.plot_revenue_profit_yields_over_time_foreach_subset(df_1)"
   ]
  },
  {
   "cell_type": "code",
   "execution_count": null,
   "id": "39b685f1-8e9c-443a-99b8-52d34adb7122",
   "metadata": {},
   "outputs": [],
   "source": [
    "visualizations.plot_expanding_mean_revenue_profit_yields_over_time_foreach_subset(df_1)"
   ]
  },
  {
   "cell_type": "markdown",
   "id": "ccce0374-fe4f-4cef-940a-b50d0cda47b7",
   "metadata": {},
   "source": [
    "# Analysis 2: Revenue and Profit Yields Over ETH Staked\n",
    "\n",
    "This analysis allows the exploration of revenue and profit yields over a large range of ETH staked values. Compared to Analysis 1 (which assumed ETH staked ranges as a result of the adoption scenarios), Analysis 2 explicitly shows the yields validators can expect at certain points in the validator adoption curve. Profit yields are sensitive to ETH price in USD/ETH and plotted at two discrete points - 100 USD/ETH and the maximum ETH price over the last 12 months."
   ]
  },
  {
   "cell_type": "code",
   "execution_count": null,
   "id": "e4d35964-c770-4f02-ae5b-496cbc6d2b9e",
   "metadata": {},
   "outputs": [],
   "source": [
    "df_2, _exceptions = run(simulation_2)"
   ]
  },
  {
   "cell_type": "code",
   "execution_count": null,
   "id": "8c723151-1e4f-45a1-9d32-6b9aedfb8ad0",
   "metadata": {},
   "outputs": [],
   "source": [
    "visualizations.plot_revenue_profit_yields_over_eth_staked(df_2)"
   ]
  },
  {
   "cell_type": "markdown",
   "id": "fe8b1aec-2b1e-458c-8bd3-e36a29454294",
   "metadata": {},
   "source": [
    "# Analysis 3: Revenue and Profit Yields Over ETH Price\n",
    "\n",
    "This analysis allows the exploration of revenue and profit yields over a large range of ETH price values in USD/ETH. The ETH staked is fixed at the currrent ETH staked value updated from Etherscan. Revenue yields are not sensitive to ETH price, hence the horizontal line. Profit yields drop quickly at very low ETH prices and stabilize at higher ETH prices. Validator operational costs are fixed in USD, whereas revenue is in ETH, this causes a \"cliff\" in the realized profit (revenue - costs) at low ETH prices."
   ]
  },
  {
   "cell_type": "code",
   "execution_count": null,
   "id": "19d7e55e-0da6-4b7c-9a43-e4c1d7dd062d",
   "metadata": {},
   "outputs": [],
   "source": [
    "simulation_3.model.params.update({\n",
    "    'eth_staked_process': [\n",
    "        # Current ETH staked value updated from Etherscan\n",
    "        lambda _run, _timestep: eth_staked,\n",
    "    ]\n",
    "})"
   ]
  },
  {
   "cell_type": "code",
   "execution_count": null,
   "id": "be57c882-a948-4685-8efd-76bc9dfaa37e",
   "metadata": {},
   "outputs": [],
   "source": [
    "df_3, _exceptions = run(simulation_3)"
   ]
  },
  {
   "cell_type": "code",
   "execution_count": null,
   "id": "e720553a-8633-4725-bae8-497339c42ab3",
   "metadata": {},
   "outputs": [],
   "source": [
    "visualizations.plot_revenue_profit_yields_over_eth_price(df_3)"
   ]
  },
  {
   "cell_type": "markdown",
   "id": "f5eb58bc-1e77-4efe-8e2c-778144282e35",
   "metadata": {},
   "source": [
    "# Analysis 4: Profit Yields Over ETH Staked vs. ETH Price\n",
    "\n",
    "This contour chart was created to enable at-a-glance intuition about the relationship between profit yields, validator adoption, and ETH price (and because we like colorful charts). Profit yields are highest when the ETH price is high and adoption is low."
   ]
  },
  {
   "cell_type": "code",
   "execution_count": null,
   "id": "7e0a9ad8-ef5d-415b-8e84-f947a1f39f3a",
   "metadata": {},
   "outputs": [],
   "source": [
    "df_4, _exceptions = run(simulation_4)"
   ]
  },
  {
   "cell_type": "code",
   "execution_count": null,
   "id": "0e9bcc9c-4cdf-48de-9386-9aa7c06a3ec4",
   "metadata": {},
   "outputs": [],
   "source": [
    "fig = visualizations.plot_validator_environment_yield_contour(df_4)\n",
    "fig.write_image(\"../outputs/validator_environment_yield_contour.png\")\n",
    "fig.show()"
   ]
  },
  {
   "cell_type": "markdown",
   "id": "de0b2fdf",
   "metadata": {},
   "source": [
    "This surface chart displays the same data as the charts above and is arguably less readable, but since some folks might appreciate the fanciness of a 3D plot, we decided to keep it."
   ]
  },
  {
   "cell_type": "code",
   "execution_count": null,
   "id": "b35ad55f-a2f6-4c73-b7aa-ca569bd27940",
   "metadata": {},
   "outputs": [],
   "source": [
    "visualizations.plot_validator_environment_yield_surface(df_4)"
   ]
  },
  {
   "cell_type": "markdown",
   "id": "613ea50d-7711-427e-81d7-1d7e15186f35",
   "metadata": {},
   "source": [
    "# Analysis 5: Profit Yields By Validator Environment Over Time\n",
    "\n",
    "This analysis allows the exploration of revenue and profit yields per validator environment over time. The analysis is based on the \"Normal Adoption\" scenario described in Analysis 1. This analysis naturally heavily depends on the cost assumptions per validator environment, and we encourage the user to review the [assumptions document](../../ASSUMPTIONS.md) in this context.\n",
    "\n",
    "StaaS validator environments, which don't incur validator operational costs directly, but instead pay a percentage of their total revenue as a fee to the relevant service provider, don't have variation in their profit yield with a stochastic (random) ETH price. Pool validator environments tend to receive better returns than StaaS environments, because their operational costs are shared among all the validators in the pool."
   ]
  },
  {
   "cell_type": "code",
   "execution_count": null,
   "id": "148dec4d-efcc-4d93-bc22-9be59800bea8",
   "metadata": {},
   "outputs": [],
   "source": [
    "simulation_5.model.params.update({'stage': [Stage.BEACON_CHAIN]})"
   ]
  },
  {
   "cell_type": "code",
   "execution_count": null,
   "id": "29607849-5279-495e-9a28-4538c7a9a78f",
   "metadata": {},
   "outputs": [],
   "source": [
    "df_5, _exceptions = run(simulation_5)"
   ]
  },
  {
   "cell_type": "code",
   "execution_count": null,
   "id": "a5a23fb7-c851-4640-9226-796f12975551",
   "metadata": {},
   "outputs": [],
   "source": [
    "visualizations.plot_profit_yields_by_environment_over_time(df_5)"
   ]
  }
 ],
 "metadata": {
  "kernelspec": {
   "display_name": "Python (CADLabs Ethereum Model)",
   "language": "python",
   "name": "python-cadlabs-eth-model"
  },
  "language_info": {
   "codemirror_mode": {
    "name": "ipython",
    "version": 3
   },
   "file_extension": ".py",
   "mimetype": "text/x-python",
   "name": "python",
   "nbconvert_exporter": "python",
   "pygments_lexer": "ipython3",
   "version": "3.8.11"
  }
 },
 "nbformat": 4,
 "nbformat_minor": 5
}
