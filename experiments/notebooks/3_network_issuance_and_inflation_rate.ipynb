{
 "cells": [
  {
   "cell_type": "markdown",
   "id": "226aea42-9677-4ced-b890-3dbfc3da3eef",
   "metadata": {},
   "source": [
    "# Experiment Notebook: Network Issuance and Inflation Rate"
   ]
  },
  {
   "cell_type": "markdown",
   "id": "e1be1d1b-639a-45c6-aa6a-3571b6417827",
   "metadata": {},
   "source": [
    "# Table of Contents\n",
    "* [Experiment Summary](#Experiment-Summary)\n",
    "* [Experiment Assumptions](#Experiment-Assumptions)\n",
    "* [Experiment Setup](#Experiment-Setup)\n",
    "* [Analysis: Inflation Rate and ETH Supply Over Time](#Analysis:-Inflation-Rate-and-ETH-Supply-Over-Time)"
   ]
  },
  {
   "cell_type": "markdown",
   "id": "971d991c-28fb-40b6-9234-bdcf8c382994",
   "metadata": {},
   "source": [
    "# Experiment Summary \n",
    "\n",
    "The purpose of this notebook is to explore the ETH issuance and resulting annualized inflation rate across different time horizons, adoption scenarios, and network upgrade stages for both historical data and simulated states.\n",
    "\n",
    "# Experiment Assumptions\n",
    "\n",
    "See [assumptions document](../../ASSUMPTIONS.md) for further details."
   ]
  },
  {
   "cell_type": "markdown",
   "id": "c115e8e0-4019-4dbd-9fce-815bd5129ec2",
   "metadata": {},
   "source": [
    "# Experiment Setup\n",
    "\n",
    "We begin with several experiment-notebook-level preparatory setup operations:\n",
    "\n",
    "* Import relevant dependencies\n",
    "* Import relevant experiment templates\n",
    "* Create copies of experiments\n",
    "* Configure and customize experiments \n",
    "\n",
    "Analysis-specific setup operations are handled in their respective notebook sections."
   ]
  },
  {
   "cell_type": "code",
   "execution_count": null,
   "id": "a68fd93a-8b77-4439-9864-bd8cf4dbdf07",
   "metadata": {},
   "outputs": [],
   "source": [
    "%%html\n",
    "<style>\n",
    ".python-iframe > iframe {\n",
    "  max-height:1000px !important;\n",
    "}\n",
    "</style>"
   ]
  },
  {
   "cell_type": "code",
   "execution_count": null,
   "id": "69d1a92d-0f2e-4fd9-8626-89d3d71e29d7",
   "metadata": {
    "tags": []
   },
   "outputs": [],
   "source": [
    "import setup\n",
    "\n",
    "import copy\n",
    "import logging\n",
    "import IPython\n",
    "import numpy as np\n",
    "import pandas as pd\n",
    "from datetime import datetime\n",
    "\n",
    "import experiments.notebooks.visualizations as visualizations\n",
    "from experiments.notebooks.visualizations.peak_eth_simulator import run_peak_eth_simulator\n",
    "from experiments.run import run\n",
    "from model.types import Stage\n",
    "from data.historical_values import df_ether_supply"
   ]
  },
  {
   "cell_type": "code",
   "execution_count": null,
   "id": "3a6f22fc-08d8-44c1-aa46-3ab8ec492a9c",
   "metadata": {},
   "outputs": [],
   "source": [
    "# Enable/disable logging\n",
    "logger = logging.getLogger()\n",
    "logger.disabled = False\n",
    "logging.getLogger('werkzeug').setLevel(logging.ERROR)\n",
    "logging.getLogger('urllib3').setLevel(logging.ERROR)"
   ]
  },
  {
   "cell_type": "code",
   "execution_count": null,
   "id": "67aa82d9-fc01-4fbe-aa6c-a339d313b837",
   "metadata": {},
   "outputs": [],
   "source": [
    "# Import experiment templates\n",
    "import experiments.templates.time_domain_analysis as time_domain_analysis"
   ]
  },
  {
   "cell_type": "code",
   "execution_count": null,
   "id": "06b69363-051e-4822-a9ef-14e9de568891",
   "metadata": {},
   "outputs": [],
   "source": [
    "# Fetch the time-domain analysis experiment\n",
    "experiment = time_domain_analysis.experiment\n",
    "# Create a copy of the experiment simulation\n",
    "simulation = copy.deepcopy(experiment.simulations[0])"
   ]
  },
  {
   "cell_type": "code",
   "execution_count": null,
   "id": "7c70ff44-4985-4fd4-8600-ff74b9c4b7d5",
   "metadata": {},
   "outputs": [],
   "source": [
    "# Experiment configuration\n",
    "\n",
    "simulation_names = {\n",
    "    'Validator Adoption Scenarios': [\n",
    "        'Normal Adoption',\n",
    "        'Low Adoption',\n",
    "        'High Adoption'\n",
    "    ],\n",
    "    'PoS Activation Date Scenarios': [\n",
    "        \"2021/12/1\",\n",
    "        \"2022/03/1\",\n",
    "        \"2022/06/1\",\n",
    "    ],\n",
    "    'EIP1559 Scenarios': [\n",
    "        'Disabled',\n",
    "        'Enabled: Steady State',\n",
    "        'Enabled: MEV',\n",
    "    ]\n",
    "}\n",
    "\n",
    "simulation_1 = copy.deepcopy(simulation)\n",
    "simulation_1.model.params.update({\n",
    "    'validator_process': [\n",
    "        lambda _run, _timestep: 3,  # Normal adoption: current average active validators per-epoch from Beaconscan\n",
    "        lambda _run, _timestep: 3 * 0.5,  # Low adoption: 50% lower scenario\n",
    "        lambda _run, _timestep: 3 * 1.5,  # High adoption: 50% higher scenario\n",
    "    ],\n",
    "})\n",
    "\n",
    "simulation_2 = copy.deepcopy(simulation)\n",
    "simulation_2.model.params.update({\n",
    "    'date_pos': [\n",
    "        datetime.strptime(\"2021/12/1\", \"%Y/%m/%d\"),\n",
    "        datetime.strptime(\"2022/03/1\", \"%Y/%m/%d\"),\n",
    "        datetime.strptime(\"2022/06/1\", \"%Y/%m/%d\"),\n",
    "    ],\n",
    "})\n",
    "\n",
    "simulation_3 = copy.deepcopy(simulation)\n",
    "simulation_3.model.params.update({\n",
    "    'base_fee_process': [\n",
    "        lambda _run, _timestep: 0, # Disabled\n",
    "        lambda _run, _timestep: 100, # Enabled: Steady state\n",
    "        lambda _run, _timestep: 70, # Enabled: MEV\n",
    "    ],  # Gwei per gas\n",
    "    'priority_fee_process': [\n",
    "        lambda _run, _timestep: 0, # Disabled\n",
    "        lambda _run, _timestep: 1, # Enabled: Steady state\n",
    "        lambda _run, _timestep: 30, # Enabled: MEV\n",
    "    ],  # Gwei per gas\n",
    "})\n",
    "\n",
    "experiment.simulations = [\n",
    "    simulation_1,\n",
    "    simulation_2,\n",
    "    simulation_3\n",
    "]"
   ]
  },
  {
   "cell_type": "code",
   "execution_count": null,
   "id": "cdd26590-1164-408f-8e4d-3a1af87c8b80",
   "metadata": {},
   "outputs": [],
   "source": [
    "df, _exceptions = run(experiment)"
   ]
  },
  {
   "cell_type": "markdown",
   "id": "9ed1bf73",
   "metadata": {},
   "source": [
    "# Analysis: Inflation Rate and ETH Supply Over Time\n",
    "\n",
    "This analysis enables the exploration of inflation rate and ETH supply over time, and supports the three adoption scenarios introduced in the second experiment notebook, as well as custom parameter choices for the Proof-of-Stake (PoS) Activation Date (\"The Merge\") and EIP1559 base fee and average priority fee.\n",
    "\n",
    "Default scenarios were selected for each of the Validator Adoption, Proof-of-Stake Activation Date, and EIP1559 categories:\n",
    "* Validator Adoption (from experiment notebook two)\n",
    "    * Normal adoption: current average active validators per-epoch from Beaconscan\n",
    "    * Low adoption: 50% lower scenario\n",
    "    * High adoption: 50% higher scenario\n",
    "* Proof-of-Stake Activation Date\n",
    "    * Various dates starting from the expected activation date of the 1st of Decemeber 2021 in quarterly increments\n",
    "* EIP1559 Base Fee and Average Priority Fee (Gwei per gas)\n",
    "    * base fee = 0 and priority fee = 0 to indicate EIP1559 being disabled\n",
    "    * base fee = 100 and priority fee = 1 to indicate the expected steady state at current gas prices\n",
    "    * base fee = 70 and tip = 30 to indicate the expected influence of MEV on the resulting blockspace auction\n",
    "\n",
    "The first chart (\"Inflation Rate and ETH Supply Analysis Scenarios\") visualizes the ETH supply for default scenarios of the Validator Adoption, Proof-of-Stake Activation Date, and EIP1559 scenario categories, side-by-side (choose via button selector). This allows comparative analysis for each category.\n",
    "\n",
    "We can interpret that:\n",
    "* Increased Validator Adoption (i.e. implied ETH staked over time) results in higher inflation, due to increased issuance for validator rewards\n",
    "* A delay in the Proof-of-Stake Activation Date results in a higher peak ETH supply, due to Proof-of-Work issuance being significantly higher than that of Proof-of-Stake\n",
    "* EIP1559 results in a deflationary ETH supply, and MEV lowers the base fee in proportion to the increase in priority fee, which reduces the ETH burned and in turn increases the annual inflation rate\n",
    "\n",
    "The second chart (\"Inflation Rate and ETH Supply Over Time\") visualizes the historical inflation rate and ETH supply over time alongside the simulated projections of the inflation rate and ETH supply. Various historical and simulated milestones are included for context - such as the \"Homestead\" hard-fork causing a temporary increase in the inflation rate, or the simulated effect of EIP1559 being enabled and Proof-of-Stake being activated. The interface allows us to both select the default scenarios defined above, or customize each parameter for unique analyses."
   ]
  },
  {
   "cell_type": "code",
   "execution_count": null,
   "id": "e232777e-2b4c-4156-a0d2-054fcc210340",
   "metadata": {},
   "outputs": [],
   "source": [
    "visualizations.plot_network_issuance_scenarios(df, simulation_names)"
   ]
  },
  {
   "cell_type": "code",
   "execution_count": null,
   "id": "bad7753c-c0be-4462-8f11-25087cf4ba9d",
   "metadata": {},
   "outputs": [],
   "source": [
    "logger.disabled = True\n",
    "\n",
    "# This will either display in \"inline\" mode when using Jupyter Notebook,\n",
    "# or \"jupyterlab\" mode when using Jupyter Lab\n",
    "run_peak_eth_simulator()"
   ]
  }
 ],
 "metadata": {
  "interpreter": {
   "hash": "32e42b11b0907d2915f7cd8a0f08a87f18585e7f9215226f31c82d500d0ee43d"
  },
  "kernelspec": {
   "display_name": "Python (CADLabs Ethereum Model)",
   "language": "python",
   "name": "python-cadlabs-eth-model"
  },
  "language_info": {
   "codemirror_mode": {
    "name": "ipython",
    "version": 3
   },
   "file_extension": ".py",
   "mimetype": "text/x-python",
   "name": "python",
   "nbconvert_exporter": "python",
   "pygments_lexer": "ipython3",
   "version": "3.8.11"
  }
 },
 "nbformat": 4,
 "nbformat_minor": 5
}
