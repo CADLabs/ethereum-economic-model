{
 "cells": [
  {
   "cell_type": "markdown",
   "id": "2df5342d",
   "metadata": {},
   "source": [
    "# Experiment Notebook: Network Issuance and Inflation Rate"
   ]
  },
  {
   "cell_type": "markdown",
   "id": "3b542b16",
   "metadata": {},
   "source": [
    "# Table of Contents\n",
    "* [Experiment Summary](#Experiment-Summary)\n",
    "* [Experiment Assumptions](#Experiment-Assumptions)\n",
    "* [Experiment Setup](#Experiment-Setup)\n",
    "* [Analysis: Inflation Rate and ETH Supply Over Time](#Analysis:-Inflation-Rate-and-ETH-Supply-Over-Time)"
   ]
  },
  {
   "cell_type": "markdown",
   "id": "b7ca5e4d",
   "metadata": {},
   "source": [
    "# Experiment Summary \n",
    "\n",
    "The purpose of this notebook is to explore the ETH issuance and resulting annualized inflation rate across different time horizons, adoption scenarios, and network-upgrade stages for both historical data and simulated states.\n",
    "\n",
    "# Experiment Assumptions\n",
    "\n",
    "See [assumptions document](../../ASSUMPTIONS.md) for further details."
   ]
  },
  {
   "cell_type": "markdown",
   "id": "6cae9fef",
   "metadata": {},
   "source": [
    "# Experiment Setup\n",
    "\n",
    "We begin with several experiment-notebook-level preparatory setup operations:\n",
    "\n",
    "* Import relevant dependencies\n",
    "* Import relevant experiment templates\n",
    "* Create copies of experiments\n",
    "* Configure and customize experiments \n",
    "\n",
    "Analysis-specific setup operations are handled in their respective notebook sections."
   ]
  },
  {
   "cell_type": "code",
   "execution_count": null,
   "id": "b4e1b5e4",
   "metadata": {
    "tags": []
   },
   "outputs": [],
   "source": [
    "import setup\n",
    "\n",
    "import copy\n",
    "import logging\n",
    "import IPython\n",
    "import numpy as np\n",
    "import pandas as pd\n",
    "from datetime import datetime\n",
    "\n",
    "import experiments.notebooks.visualizations as visualizations\n",
    "from experiments.notebooks.visualizations.eth_supply_simulator import run_eth_supply_simulator\n",
    "from experiments.run import run\n",
    "from model.types import Stage\n",
    "from data.historical_values import df_ether_supply"
   ]
  },
  {
   "cell_type": "code",
   "execution_count": null,
   "id": "cfb19699",
   "metadata": {},
   "outputs": [],
   "source": [
    "# Enable/disable logging\n",
    "logger = logging.getLogger()\n",
    "logger.disabled = False\n",
    "logging.getLogger('werkzeug').setLevel(logging.ERROR)\n",
    "logging.getLogger('urllib3').setLevel(logging.ERROR)"
   ]
  },
  {
   "cell_type": "code",
   "execution_count": null,
   "id": "e348b90f",
   "metadata": {},
   "outputs": [],
   "source": [
    "# Import experiment templates\n",
    "import experiments.templates.time_domain_analysis as time_domain_analysis"
   ]
  },
  {
   "cell_type": "code",
   "execution_count": null,
   "id": "66948b25",
   "metadata": {},
   "outputs": [],
   "source": [
    "# Fetch the time-domain analysis experiment\n",
    "experiment = time_domain_analysis.experiment\n",
    "# Create a copy of the experiment simulation\n",
    "simulation = copy.deepcopy(experiment.simulations[0])"
   ]
  },
  {
   "cell_type": "code",
   "execution_count": null,
   "id": "c06ac522",
   "metadata": {},
   "outputs": [],
   "source": [
    "# Experiment configuration\n",
    "\n",
    "simulation_names = {\n",
    "    'Validator Adoption Scenarios': [\n",
    "        'Normal Adoption',\n",
    "        'Low Adoption',\n",
    "        'High Adoption'\n",
    "    ],\n",
    "    'PoS Activation Date Scenarios': [\n",
    "        \"2021/12/1\",\n",
    "        \"2022/03/1\",\n",
    "        \"2022/06/1\",\n",
    "    ],\n",
    "    'EIP-1559 Scenarios': [\n",
    "        'Disabled (Base Fee = 0)',\n",
    "        'Enabled (Base Fee = 30)',\n",
    "    ]\n",
    "}\n",
    "\n",
    "simulation_1 = copy.deepcopy(simulation)\n",
    "simulation_1.model.params.update({\n",
    "    'validator_process': [\n",
    "        lambda _run, _timestep: 3,  # Normal adoption: current average active validators per epoch from Beaconscan\n",
    "        lambda _run, _timestep: 3 * 0.5,  # Low adoption: 50%-lower scenario\n",
    "        lambda _run, _timestep: 3 * 1.5,  # High adoption: 50%-higher scenario\n",
    "    ],\n",
    "})\n",
    "\n",
    "simulation_2 = copy.deepcopy(simulation)\n",
    "simulation_2.model.params.update({\n",
    "    'date_pos': [\n",
    "        datetime.strptime(\"2021/12/1\", \"%Y/%m/%d\"),\n",
    "        datetime.strptime(\"2022/03/1\", \"%Y/%m/%d\"),\n",
    "        datetime.strptime(\"2022/06/1\", \"%Y/%m/%d\"),\n",
    "    ],\n",
    "})\n",
    "\n",
    "simulation_3 = copy.deepcopy(simulation)\n",
    "simulation_3.model.params.update({\n",
    "    'base_fee_process': [\n",
    "        lambda _run, _timestep: 0, # Disabled\n",
    "        lambda _run, _timestep: 30, # Enabled: see ASSUMPTIONS.md for default value assumption\n",
    "    ],  # Gwei per gas\n",
    "})\n",
    "\n",
    "experiment.simulations = [\n",
    "    simulation_1,\n",
    "    simulation_2,\n",
    "    simulation_3\n",
    "]"
   ]
  },
  {
   "cell_type": "code",
   "execution_count": null,
   "id": "c9e60b8c",
   "metadata": {},
   "outputs": [],
   "source": [
    "df, _exceptions = run(experiment)"
   ]
  },
  {
   "cell_type": "markdown",
   "id": "27c30d27",
   "metadata": {},
   "source": [
    "# Analysis: Inflation Rate and ETH Supply Over Time\n",
    "\n",
    "This analysis enables the exploration of the inflation rate and ETH supply over time, and supports the three adoption scenarios introduced in the second experiment notebook, as well as custom parameter choices for the Proof-of-Stake (PoS) Activation Date (\"The Merge\") and EIP-1559 Base Fee.\n",
    "\n",
    "Default scenarios were selected for each of the Validator Adoption, Proof-of-Stake Activation Date, and EIP-1559 categories:\n",
    "* Validator Adoption (as seen in Notebook \"Validator Revenue and Profit Yields\")\n",
    "    * Normal adoption: assumes an average of 3 new validators per epoch. These rates correspond to the historical average newly **activated** validators per epoch between 15 January 2021 and 15 July 2021 as per [Beaconscan](https://beaconscan.com/stat/validator).\n",
    "    * Low adoption: assumes an average of 1.5 new validators per epoch, i.e. a 50% lower rate compared to the base scenario\n",
    "    * High adoption: assumes an average of 4.5 new validators per epoch, i.e. a 50% higher rate compared to the base scenario\n",
    "* Proof-of-Stake Activation Date\n",
    "    * Scenarios starting from 1 Decemeber 2021 in quarterly increments \n",
    "* EIP-1559 Base Fee (Gwei per gas)\n",
    "    * EIP-1559 Disabled: Base Fee 0\n",
    "    * EIP-1559 Enabled: Base Fee 30 (see [assumptions doc](../../ASSUMPTIONS.md) for default value assumption)\n",
    "\n",
    "The first chart (\"Inflation Rate and ETH Supply Analysis Scenarios\") depicts the ETH supply for default scenarios of the Validator Adoption, Proof-of-Stake Activation Date, and EIP-1559 scenario categories, side by side (choose via button selector). This allows comparative analysis for each category.\n",
    "\n",
    "We can interpret that:\n",
    "* Increased Validator Adoption (i.e. implied ETH staked over time) results in higher inflation due to increased issuance for validator rewards\n",
    "* A delay in the Proof-of-Stake Activation Date results in a higher peak ETH supply due to Proof-of-Work issuance being significantly higher than that of Proof-of-Stake\n",
    "* EIP-1559 burns the base fee, which in certain conditions results in a deflationary ETH supply\n",
    "\n",
    "The second chart (\"Inflation Rate and ETH Supply Over Time\") depicts the historical inflation rate and ETH supply over time alongside the simulated projections of the inflation rate and ETH supply. Various historical and simulated milestones are included for context, such as the \"Homestead\" hard-fork causing a temporary increase in the inflation rate, or the simulated effect of EIP-1559 being enabled and Proof-of-Stake being activated. The interface allows us to both select the default scenarios defined above, or customize each parameter for unique analyses."
   ]
  },
  {
   "cell_type": "code",
   "execution_count": null,
   "id": "6c0dc59a",
   "metadata": {},
   "outputs": [],
   "source": [
    "visualizations.plot_network_issuance_scenarios(df, simulation_names)"
   ]
  },
  {
   "cell_type": "code",
   "execution_count": null,
   "id": "e78b0e55",
   "metadata": {},
   "outputs": [],
   "source": [
    "logger.disabled = True\n",
    "run_eth_supply_simulator(execution_mode='inline')\n",
    "\n",
    "# To display in new browser tab at http://127.0.0.1:8050/:\n",
    "# run_eth_supply_simulator(execution_mode='external')\n",
    "\n",
    "# To display either in \"inline\" mode when using Jupyter Notebook,\n",
    "# or \"jupyterlab\" mode when using Jupyter Lab:\n",
    "# run_eth_supply_simulator()"
   ]
  }
 ],
 "metadata": {
  "kernelspec": {
   "display_name": "Python 3",
   "language": "python",
   "name": "python3"
  },
  "language_info": {
   "codemirror_mode": {
    "name": "ipython",
    "version": 3
   },
   "file_extension": ".py",
   "mimetype": "text/x-python",
   "name": "python",
   "nbconvert_exporter": "python",
   "pygments_lexer": "ipython3",
   "version": "3.8.5"
  }
 },
 "nbformat": 4,
 "nbformat_minor": 5
}
