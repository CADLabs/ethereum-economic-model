{
 "cells": [
  {
   "cell_type": "markdown",
   "id": "092db441-f6c2-4bf8-b7d4-36686ec01e7a",
   "metadata": {},
   "source": [
    "# Experiment Quick-Start Guide"
   ]
  },
  {
   "cell_type": "markdown",
   "id": "1544c9ad-971b-4e20-9f58-f59eb2867428",
   "metadata": {},
   "source": [
    "## Table of Contents\n",
    "\n",
    "* [Overview of experiment architecture](#Overview-of-experiment-architecture)\n",
    "* [Experiment workflow](#Experiment-workflow)\n",
    "    * [Modifying State Variables](#Modifying-State-Variables)\n",
    "    * [Modifying System Parameters](#Modifying-System-Parameters)\n",
    "    * [Executing experiments](#Executing-experiments)\n",
    "    * [Post-processing and analysing results](#Post-processing-and-analysing-results)\n",
    "    * [Visualizing results](#Visualizing-results)\n",
    "* [Creating new, customized experiment notebooks](#Creating-new,-customized-experiment-notebooks)\n",
    "    * Step 1: Select an experiment template\n",
    "    * Step 2: Create a new notebook\n",
    "    * Step 3: Customize the experiment\n",
    "    * Step 4: Execute the experiment\n",
    "* [Advanced experiment configuration & simulation techniques](#Advanced-experiment-configuration-&-simulation-techniques)\n",
    "    * [Setting simulation timesteps and unit of time `dt`](#Setting-simulation-timesteps-and-unit-of-time-dt)\n",
    "    * [Changing the Ethereum network upgrade stage](#Changing-the-Ethereum-network-upgrade-stage)\n",
    "    * [Performing large-scale experiments](#Performing-large-scale-experiments)"
   ]
  },
  {
   "cell_type": "markdown",
   "id": "1dbafb7e-419b-4f73-aec8-da958cff54e4",
   "metadata": {},
   "source": [
    "# Overview of experiment architecture\n",
    "\n",
    "The experiment architecture is composed of the following four elements - the **model**, **default experiment**, **experiment templates**, and **experiment notebooks**:\n",
    "\n",
    "1. The **model** is initialized with a default Initial State and set of System Parameters defined in the `model` module.\n",
    "2. The **default experiment**, in the `experiments.default_experiment` module, is an experiment composed of a single simulation that uses the default cadCAD **model** Initial State and System Parameters. Additional default simulation execution settings such as the number of timesteps and runs are also set in the **default experiment**.\n",
    "3. The **experiment templates**, in the `experiments.templates` module, contain pre-configured analyses based on the **default experiment**. Examples include `experiments.templates.time_domain_analysis` (simulation in the time-domain over a period of 5 years) and `experiments.templates.eth_price_sweep_analysis` (simulation in the phase-space sweeping over discrete ETH Price values).\n",
    "4. The **experiment notebooks** perform various scenario analyses by importing existing **experiment templates**, optionally modifying the Initial State and System Parameters within the notebook, and then executing them."
   ]
  },
  {
   "cell_type": "markdown",
   "id": "781e0f41-5d52-4663-b13a-ca9e9c067330",
   "metadata": {},
   "source": [
    "# Experiment workflow\n",
    "\n",
    "If you just want to run (execute) existing experiment notebooks, simply open the respective notebook and execute all cells."
   ]
  },
  {
   "cell_type": "markdown",
   "id": "ba3bc1ff-037a-41bc-a242-8a1b0816e063",
   "metadata": {},
   "source": [
    "The experiment notebooks will start by importing some standard dependencies:"
   ]
  },
  {
   "cell_type": "code",
   "execution_count": null,
   "id": "08d9688f-8eea-4fda-b398-37d1044dc92f",
   "metadata": {},
   "outputs": [],
   "source": [
    "# Import the setup module:\n",
    "# * sets up the Python path\n",
    "# * runs shared notebook configuration methods, such as loading IPython modules\n",
    "import setup\n",
    "\n",
    "# External dependencies\n",
    "import copy\n",
    "import logging\n",
    "import numpy as np\n",
    "from pprint import pprint\n",
    "import pandas as pd\n",
    "\n",
    "# Project dependencies\n",
    "import model.constants as constants\n",
    "import experiments.notebooks.visualizations as visualizations\n",
    "from experiments.run import run\n",
    "from experiments.utils import inspect_module"
   ]
  },
  {
   "cell_type": "markdown",
   "id": "27c652a9-abb1-4477-b427-628c79b41440",
   "metadata": {},
   "source": [
    "We can then import the default experiment, and create a copy of the simulation object - we create a new copy for each analysis we'd like to perform:"
   ]
  },
  {
   "cell_type": "code",
   "execution_count": null,
   "id": "50bf76d1-469b-45cc-99bd-14c27727b27e",
   "metadata": {},
   "outputs": [],
   "source": [
    "import experiments.default_experiment as default_experiment\n",
    "import experiments.templates.time_domain_analysis as time_domain_analysis\n",
    "import experiments.templates.eth_price_eth_staked_grid_analysis as eth_price_eth_staked_grid_analysis\n",
    "\n",
    "simulation_analysis_1 = copy.deepcopy(default_experiment.experiment.simulations[0])\n",
    "simulation_analysis_2 = copy.deepcopy(time_domain_analysis.experiment.simulations[0])\n",
    "simulation_analysis_3 = copy.deepcopy(eth_price_eth_staked_grid_analysis.experiment.simulations[0])"
   ]
  },
  {
   "cell_type": "markdown",
   "id": "a17964ca-9b02-467c-808d-a209241564f3",
   "metadata": {},
   "source": [
    "We can use the `inspect_module` method to see the configuration of the default experiment before making changes:"
   ]
  },
  {
   "cell_type": "code",
   "execution_count": null,
   "id": "1789113f-9079-431d-818f-da229376a51f",
   "metadata": {},
   "outputs": [],
   "source": [
    "inspect_module(default_experiment)"
   ]
  },
  {
   "cell_type": "markdown",
   "id": "ed179f95-c756-4ce5-a354-cfcb47cdf562",
   "metadata": {},
   "source": [
    "## Modifying State Variables"
   ]
  },
  {
   "cell_type": "markdown",
   "id": "e8d12b0c-b7df-41c0-adf5-55566e9c978d",
   "metadata": {},
   "source": [
    "To view what the Initial State (radCAD model configuration setting `initial_state`) of the State Variables are, and to what value they have been set, we can inspect the dictionary as follows:"
   ]
  },
  {
   "cell_type": "code",
   "execution_count": null,
   "id": "deb3a549-d0bf-4621-8324-6fdfe706c216",
   "metadata": {},
   "outputs": [],
   "source": [
    "pprint(simulation_analysis_1.model.initial_state)"
   ]
  },
  {
   "cell_type": "markdown",
   "id": "0dd6f40c-7ef2-44e9-894e-7f6d9f16953a",
   "metadata": {},
   "source": [
    "To modify the value of **State Variables** for a specific analysis you need to select the relevant simulation, and update the chosen model Initial State. For example, updating the `eth_supply` Initial State to `100e6` (100 million ETH):"
   ]
  },
  {
   "cell_type": "code",
   "execution_count": null,
   "id": "bd7ac9c0-3a05-4c7c-be85-788e02cabfa6",
   "metadata": {},
   "outputs": [],
   "source": [
    "simulation_analysis_1.model.initial_state.update({\n",
    "    \"eth_supply\": 100e6, \n",
    "})"
   ]
  },
  {
   "cell_type": "markdown",
   "id": "aab984a4-02c9-4467-9cd1-27b1cc5bc35a",
   "metadata": {},
   "source": [
    "## Modifying System Parameters"
   ]
  },
  {
   "cell_type": "markdown",
   "id": "77056627-81e1-40d2-bf86-25855fd9b313",
   "metadata": {},
   "source": [
    "To view what the System Parameters (radCAD model configuration setting `params`) are, and to what value they have been set, we can inspect the dictionary as follows:"
   ]
  },
  {
   "cell_type": "code",
   "execution_count": null,
   "id": "ccb8a903-87c4-48ae-aa00-02a6c4855031",
   "metadata": {},
   "outputs": [],
   "source": [
    "pprint(simulation_analysis_1.model.params)"
   ]
  },
  {
   "cell_type": "markdown",
   "id": "c444be66-53dc-4683-a65b-b50a37435ff1",
   "metadata": {},
   "source": [
    "To modify the value of **System Parameters** for a specific analysis you need to select the relevant simulation, and update the chosen model System Parameter (which is a list of values). For example, updating the `BASE_REWARD_FACTOR` System Parameter to a sweep of two values, `64` and `32`:"
   ]
  },
  {
   "cell_type": "code",
   "execution_count": null,
   "id": "592136aa-95cc-4e3b-99c7-53b122e806ed",
   "metadata": {},
   "outputs": [],
   "source": [
    "simulation_analysis_1.model.params.update({\n",
    "    \"BASE_REWARD_FACTOR\": [64, 32],\n",
    "})"
   ]
  },
  {
   "cell_type": "markdown",
   "id": "d74a97d3-8875-4ed0-ace9-b27b5918dd81",
   "metadata": {},
   "source": [
    "## Executing experiments"
   ]
  },
  {
   "cell_type": "markdown",
   "id": "aaf97fb4-9094-4f1d-bd2d-d9616ad664c7",
   "metadata": {},
   "source": [
    "We can now execute our custom analysis, and retrieve the post-processed Pandas DataFrame, using the `run(...)` method:"
   ]
  },
  {
   "cell_type": "code",
   "execution_count": null,
   "id": "9772aa9b-4083-47af-b26d-135b575928eb",
   "metadata": {},
   "outputs": [],
   "source": [
    "df, exceptions = run(simulation_analysis_1)"
   ]
  },
  {
   "cell_type": "markdown",
   "id": "fc314efc-8382-49d5-92a1-bd5af1dacb5a",
   "metadata": {},
   "source": [
    "## Post-processing and analysing results"
   ]
  },
  {
   "cell_type": "markdown",
   "id": "6307c312-a86b-450c-a543-ef6a00b1f947",
   "metadata": {},
   "source": [
    "We can see that we had no exceptions for the single simulation we executed:"
   ]
  },
  {
   "cell_type": "code",
   "execution_count": null,
   "id": "ad4b43e4-1c0d-486b-8885-a0d1395227c7",
   "metadata": {},
   "outputs": [],
   "source": [
    "exceptions[0]['exception'] == None"
   ]
  },
  {
   "cell_type": "markdown",
   "id": "c9dc740f-0490-456d-8ff6-d76cf4646a87",
   "metadata": {},
   "source": [
    "We can simply display the Pandas DataFrame to inspect the results. This DataFrame already has some default post-processing applied (see [experiments/post_processing.py](../post_processing.py))"
   ]
  },
  {
   "cell_type": "code",
   "execution_count": null,
   "id": "d3ef9d32-8ad4-4467-aa70-8ec7d33db057",
   "metadata": {},
   "outputs": [],
   "source": [
    "df"
   ]
  },
  {
   "cell_type": "markdown",
   "id": "91be78d8-b2ab-4a7b-ac88-45e0829d2866",
   "metadata": {},
   "source": [
    "## Visualizing results"
   ]
  },
  {
   "cell_type": "markdown",
   "id": "2819bca7-1223-40d1-a745-1314603b42b1",
   "metadata": {},
   "source": [
    "Once we have the results post-processed and in a Pandas DataFrame, we can use Plotly for plotting our results, or Pandas for numerical analyses:"
   ]
  },
  {
   "cell_type": "code",
   "execution_count": null,
   "id": "4880e8ae-3710-49c3-a35d-cc0d9ffe29f0",
   "metadata": {},
   "outputs": [],
   "source": [
    "visualizations.plot_validating_rewards(df, subplot_titles=[\"Base Reward Factor = 64\", \"Base Reward Factor = 32\"])"
   ]
  },
  {
   "cell_type": "markdown",
   "id": "b286ebb9-b062-4242-8ee3-bd23897017dd",
   "metadata": {},
   "source": [
    "# Creating new, customized experiment notebooks\n",
    "\n",
    "If you want to create an entirely new analysis you'll need to create a new experiment notebook, which entails the following steps:\n",
    "* Step 1: Select a base experiment template from the `experiments/templates/` directory to start from. The template [example_analysis.py](../templates/example_analysis.py) gives an example of extending the default experiment to override default State Variables and System Parameters.\n",
    "* Step 2: Create a new notebook in the `experiments/notebooks/` directory, using the [template.ipynb](./template.ipynb) notebook as a guide, and import the experiment from the experiment template.\n",
    "* Step 3: Customize the experiment for your specific analysis.\n",
    "* Step 4: Execute your experiment, post-process and analyze the results, and create Plotly charts!"
   ]
  },
  {
   "cell_type": "markdown",
   "id": "db766b95-9333-4fc8-8ed8-a5c83d5a2dd9",
   "metadata": {},
   "source": [
    "# Advanced experiment configuration & simulation techniques"
   ]
  },
  {
   "cell_type": "markdown",
   "id": "29ced88a-4e0c-43a5-92d1-1d026f724865",
   "metadata": {},
   "source": [
    "## Setting simulation timesteps and unit of time `dt`"
   ]
  },
  {
   "cell_type": "code",
   "execution_count": null,
   "id": "5ddec154-bcd9-4189-9227-4aac9d8b533a",
   "metadata": {},
   "outputs": [],
   "source": [
    "from model.simulation_configuration import TIMESTEPS, DELTA_TIME, SIMULATION_TIME_MONTHS"
   ]
  },
  {
   "cell_type": "markdown",
   "id": "29990d6c-338a-47aa-9c0c-d460ef98a84b",
   "metadata": {},
   "source": [
    "We can configure the number of simulation timesteps `TIMESTEPS` from a simulation time in months `SIMULATION_TIME_MONTHS`, multiplied by the number of epochs in a month, and divided by the simulation unit of time `DELTA_TIME`:"
   ]
  },
  {
   "cell_type": "code",
   "execution_count": null,
   "id": "82d24679-5bee-46df-b8fe-f58eaadc32ec",
   "metadata": {},
   "outputs": [],
   "source": [
    "SIMULATION_TIME_MONTHS / 12  # Divide months by 12 to get number of years"
   ]
  },
  {
   "cell_type": "markdown",
   "id": "423ca15c-dfc7-432a-bd6a-dc7ec4c2224c",
   "metadata": {},
   "source": [
    "`DELTA_TIME` is a variable that sets how many epochs are simulated for each timestep. Sometimes if we don't need a finer granularity (1 epoch per timestep, for example), then we can set `DELTA_TIME` to a larger value for better performance. The default value is 1 day or `225` epochs. This means that all our time based states will be for a period of 1 day (we call this \"aggregation\"), which is convenient."
   ]
  },
  {
   "cell_type": "code",
   "execution_count": null,
   "id": "e707ffc9-ba5b-4993-8dca-add1c777427f",
   "metadata": {},
   "outputs": [],
   "source": [
    "DELTA_TIME"
   ]
  },
  {
   "cell_type": "markdown",
   "id": "53fd8ac4-d36c-454e-b7d1-161bf01913df",
   "metadata": {},
   "source": [
    "`TIMESTEPS` is now simply the simulation time in months, multiplied by the number of epochs in a month, divided by `DELTA_TIME`:"
   ]
  },
  {
   "cell_type": "markdown",
   "id": "40246080-1688-4c90-8d37-cba266b11ad3",
   "metadata": {},
   "source": [
    "```python\n",
    "TIMESTEPS = constants.epochs_per_month * SIMULATION_TIME_MONTHS // DELTA_TIME\n",
    "```"
   ]
  },
  {
   "cell_type": "code",
   "execution_count": null,
   "id": "d655f4ea-8cc5-4b5a-b463-4c8f6d337884",
   "metadata": {},
   "outputs": [],
   "source": [
    "TIMESTEPS"
   ]
  },
  {
   "cell_type": "markdown",
   "id": "b7f0205f-4088-49df-8af2-4271669c7bc9",
   "metadata": {},
   "source": [
    "Finally, to set the simulation timesteps (note, you may have to update the environmental processes that depend on the number of timesteps, and override the relevant parameters):"
   ]
  },
  {
   "cell_type": "code",
   "execution_count": null,
   "id": "e11276b7-07dc-45e5-891f-d6cb944acc49",
   "metadata": {},
   "outputs": [],
   "source": [
    "simulation_analysis_1.timesteps = TIMESTEPS"
   ]
  },
  {
   "cell_type": "markdown",
   "id": "9bee732f-177d-4ca6-86a3-21a69b2c9a05",
   "metadata": {},
   "source": [
    "### Considerations when performing efficient phase-space simulations"
   ]
  },
  {
   "cell_type": "markdown",
   "id": "42a160e5-b6ed-4d2d-aade-413c436dacab",
   "metadata": {},
   "source": [
    "In `simulation_analysis_3`, `timesteps` is decreased to `1`, but `dt` is increased to `TIMESTEPS * DELTA_TIME`, where `DELATA_TIME` is the full duration of the simulation. This produces the final result in a single processing cycle, producing the full phase-space with very low processing overhead. This is achieved by ignoring all time-series information between the beginning and end of the simulation.\n",
    "\n",
    "There is a test function `test_dt(...)` in `tests/test_integration.py` that can be used to verify no information is lost due to the approximations taken along the time axis for the specific State Variables that you are interested in, and that your custom code has not introduced mechanisms that might not work well with this kind of approximation. \n",
    "\n",
    "An example of a type of mechanism that would not work with this kind of approximation is a mechanism that implements some form of feedback loop."
   ]
  },
  {
   "cell_type": "markdown",
   "id": "7ac65e81-819f-485d-8fca-a9f272064a67",
   "metadata": {},
   "source": [
    "## Changing the Ethereum network upgrade stage"
   ]
  },
  {
   "cell_type": "markdown",
   "id": "d21e2c0c-d137-4b4c-949c-eb85fedce7f2",
   "metadata": {},
   "source": [
    "The model operates over different Ethereum network upgrade stages. The default experiment operates in the \"post-merge\" Proof of Stake stage.\n",
    "\n",
    "`Stage` is an Enum, we can import it and see what options we have:"
   ]
  },
  {
   "cell_type": "code",
   "execution_count": null,
   "id": "2ac01652-1c01-4657-b553-59ffebd5023c",
   "metadata": {},
   "outputs": [],
   "source": [
    "from model.types import Stage"
   ]
  },
  {
   "cell_type": "markdown",
   "id": "65627f74-e507-4a27-8d34-1e69ab08040e",
   "metadata": {},
   "source": [
    "The model is well documented, and we can view the Python docstring to see what a Stage is, and create a dictionary to view the Enum members:"
   ]
  },
  {
   "cell_type": "code",
   "execution_count": null,
   "id": "5811c82a-68cc-4335-bb19-d0d0e9b16fda",
   "metadata": {},
   "outputs": [],
   "source": [
    "print(Stage.__doc__)\n",
    "{e.name: e.value for e in Stage}"
   ]
  },
  {
   "cell_type": "markdown",
   "id": "13bbe7df-4a2b-45d5-865a-1fae7b7e04ac",
   "metadata": {},
   "source": [
    "The `PROOF_OF_STAKE` stage, for example, assumes the Beacon Chain has been implemented, EIP1559 has been enabled, and POW issuance is disabled:"
   ]
  },
  {
   "cell_type": "code",
   "execution_count": null,
   "id": "25051330-7e85-49d2-918c-19a73a84cdb5",
   "metadata": {},
   "outputs": [],
   "source": [
    "inspect_module(Stage)"
   ]
  },
  {
   "cell_type": "markdown",
   "id": "b738a1e1-e895-47a4-9550-d53e2027e9c7",
   "metadata": {},
   "source": [
    "As before, we can update the \"stage\" System Parameter to set the relevant Stage:"
   ]
  },
  {
   "cell_type": "code",
   "execution_count": null,
   "id": "3ae767c3-654f-448e-8a73-c13f5bb23a96",
   "metadata": {},
   "outputs": [],
   "source": [
    "simulation_analysis_1.model.params.update({\n",
    "    \"stage\": [Stage.PROOF_OF_STAKE]\n",
    "})"
   ]
  },
  {
   "cell_type": "markdown",
   "id": "c137003d-1f35-405e-b36b-23c4613272a5",
   "metadata": {},
   "source": [
    "## Performing large-scale experiments"
   ]
  },
  {
   "cell_type": "markdown",
   "id": "7a9373bc-565f-43fa-8d3c-4cff4e71ec7a",
   "metadata": {},
   "source": [
    "When executing an experiment, we have three degrees of freedom - **simulations, runs, and subsets** (parameter sweeps).\n",
    "\n",
    "For a single experiment we can have multiple simulations, for every simulation we can have multiple runs, and for every run we can have multiple subsets. Remember that `simulation`, `run`, and `subset` are simply additional State Variables set by the radCAD engine during execution - we then use those State Variables to index the results for a specific dimension e.g. simulation 1, run 5, and subset 2.\n",
    "\n",
    "Each dimension has a generally accepted purpose:\n",
    "* Simulations are used for A/B testing\n",
    "* Runs are used for Monte Carlo analysis\n",
    "* Subsets are used for parameter sweeps\n",
    "\n",
    "In some cases, we break these \"rules\" to allow for more degrees of freedom or easier configuration.\n",
    "\n",
    "An example of this, is the `eth_price_eth_staked_grid_analysis` experiment template that we imported earlier:"
   ]
  },
  {
   "cell_type": "code",
   "execution_count": null,
   "id": "cc8c258d-590f-4e76-890e-e4ad9d6cc6ab",
   "metadata": {},
   "outputs": [],
   "source": [
    "inspect_module(eth_price_eth_staked_grid_analysis)"
   ]
  },
  {
   "cell_type": "markdown",
   "id": "1ff4e68a-c39c-4f03-bf30-ed408d2e0b02",
   "metadata": {},
   "source": [
    "Here, we create a grid of two State Variables, ETH price and ETH staked, using the `eth_price_process` and `eth_staked_process`.\n",
    "\n",
    "Instead of sweeping the two System Parameters to create different subsets, we pre-generate all possible combinations of the two values first and use the specific `run` to index the data i.e. for each run we get a new ETH price and ETH staked sample.\n",
    "\n",
    "This allows the experimenter (you!) to use a parameter sweep on top of this analysis if they choose, we have kept one degree of freedom."
   ]
  },
  {
   "cell_type": "markdown",
   "id": "77a8d048-c043-46e4-a622-c719e197183c",
   "metadata": {},
   "source": [
    "### Composing an experiment using **simulations, runs, and subsets**"
   ]
  },
  {
   "cell_type": "code",
   "execution_count": null,
   "id": "1b885e70-88cf-4e0e-8afa-2f1f9fe1fac1",
   "metadata": {},
   "outputs": [],
   "source": [
    "from radcad import Experiment, Engine, Backend\n",
    "\n",
    "\n",
    "# Create a new Experiment of three Simulations:\n",
    "# * Simulation Analysis 1 has one run and two subsets - a parameter sweep of two values (BASE_REWARD_FACTOR = [64, 32])\n",
    "# * Simulation Analysis 2 has one run and one subset - a basic simulation configuration\n",
    "# * Simulation Analysis 3 has 400 runs (20 * 20) and one subset - a parameter grid indexed using `run`\n",
    "experiment = Experiment([simulation_analysis_1, simulation_analysis_2, simulation_analysis_3])"
   ]
  },
  {
   "cell_type": "markdown",
   "id": "8ce461df-93de-4691-a4fb-72a39e1c35fd",
   "metadata": {},
   "source": [
    "### Configuring the radCAD Engine for high performance\n",
    "\n",
    "To improve simulation performance for large-scale experiments, we can set the following settings using the radCAD `Engine` - both Experiments and Simulations have the same `Engine`, when executing an `Experiment` we set these settings on the `Experiment` instance:"
   ]
  },
  {
   "cell_type": "code",
   "execution_count": null,
   "id": "6ae2263c-265c-46f0-86ce-d3f3b8314b33",
   "metadata": {},
   "outputs": [],
   "source": [
    "# Configure Experiment Engine\n",
    "experiment.engine = Engine(\n",
    "    # Use a single process, the overhead of creating multiple processes\n",
    "    # for parallel-processing is only worthwhile when the Simulation runtime is long\n",
    "    backend = Backend.SINGLE_PROCESS,\n",
    "    # Disable System Parameter and State Variable deepcopy:\n",
    "    # * Deepcopy prevents mutation of state, at the cost of lower performance\n",
    "    # * Disabling it leaves it up to the experimenter to use Python best-practises to avoid \n",
    "    # state mutation, like manually using `copy` and `deepcopy` methods before\n",
    "    # performing mutating calculations when necessary\n",
    "    deepcopy = False,\n",
    "    # If we don't need the state history from individual substeps,\n",
    "    # we can get rid of them for higher performance\n",
    "    drop_substeps = True,\n",
    ")\n",
    "\n",
    "# Disable logging\n",
    "# For large experiments, there is lots of logging which can get messy...\n",
    "logger = logging.getLogger()\n",
    "logger.disabled = True\n",
    "\n",
    "# Execute Experiment\n",
    "raw_results = experiment.run()"
   ]
  },
  {
   "cell_type": "markdown",
   "id": "b25b706e-e673-4ef0-9c89-34b650d3552f",
   "metadata": {},
   "source": [
    "### Indexing a large-scale experiment dataset"
   ]
  },
  {
   "cell_type": "code",
   "execution_count": null,
   "id": "8be9fe6a-8629-47af-950b-b614e711e6d6",
   "metadata": {},
   "outputs": [],
   "source": [
    "# Create a Pandas DataFrame from the raw results\n",
    "df = pd.DataFrame(experiment.results)\n",
    "df"
   ]
  },
  {
   "cell_type": "code",
   "execution_count": null,
   "id": "e84eceba-d0c1-41f7-930e-b7036a97751a",
   "metadata": {},
   "outputs": [],
   "source": [
    "# Select each Simulation dataset\n",
    "df_0 = df[df.simulation == 0]\n",
    "df_1 = df[df.simulation == 1]\n",
    "df_2 = df[df.simulation == 2]\n",
    "\n",
    "datasets = [df_0, df_1, df_2]\n",
    "\n",
    "# Determine size of Simulation datasets\n",
    "for index, data in enumerate(datasets):\n",
    "    runs = len(data.run.unique())\n",
    "    subsets = len(data.subset.unique())\n",
    "    timesteps = len(data.timestep.unique())\n",
    "    \n",
    "    print(f\"Simulation {index} has {runs} runs * {subsets} subsets * {timesteps} timesteps = {runs * subsets * timesteps} rows\")"
   ]
  },
  {
   "cell_type": "code",
   "execution_count": null,
   "id": "14123097-bb99-404d-a920-cdc6fbeffc24",
   "metadata": {},
   "outputs": [],
   "source": [
    "# Indexing simulation 0, run 1 (indexed from one!), subset 1, timestep 1\n",
    "df.query(\"simulation == 0 and run == 1 and subset == 1 and timestep == 1\")"
   ]
  }
 ],
 "metadata": {
  "kernelspec": {
   "display_name": "Python (CADLabs Ethereum Model)",
   "language": "python",
   "name": "python-cadlabs-eth-model"
  },
  "language_info": {
   "codemirror_mode": {
    "name": "ipython",
    "version": 3
   },
   "file_extension": ".py",
   "mimetype": "text/x-python",
   "name": "python",
   "nbconvert_exporter": "python",
   "pygments_lexer": "ipython3",
   "version": "3.8.11"
  }
 },
 "nbformat": 4,
 "nbformat_minor": 5
}
