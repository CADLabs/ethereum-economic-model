{
 "cells": [
  {
   "cell_type": "markdown",
   "id": "f959b450",
   "metadata": {},
   "source": [
    "# Experiment Quick-Start Guide"
   ]
  },
  {
   "cell_type": "markdown",
   "id": "afd28658",
   "metadata": {},
   "source": [
    "## Table of Contents\n",
    "\n",
    "* [Overview of Experiment Architecture](#Overview-of-Experiment-Architecture)\n",
    "* [Experiment Workflow](#Experiment-Workflow)\n",
    "    * [Modifying State Variables](#Modifying-State-Variables)\n",
    "    * [Modifying System Parameters](#Modifying-System-Parameters)\n",
    "    * [Executing Experiments](#Executing-Experiments)\n",
    "    * [Post-processing and Analysing Results](#Post-processing-and-Analysing-Results)\n",
    "    * [Visualizing Results](#Visualizing-Results)\n",
    "* [Creating New, Customized Experiment Notebooks](#Creating-New,-Customized-Experiment-Notebooks)\n",
    "    * Step 1: Select an experiment template\n",
    "    * Step 2: Create a new notebook\n",
    "    * Step 3: Customize the experiment\n",
    "    * Step 4: Execute the experiment\n",
    "* [Advanced Experiment-configuration & Simulation Techniques](#Advanced-Experiment-configuration-&-Simulation-Techniques)\n",
    "    * [Setting Simulation Timesteps and Unit of Time `dt`](#Setting-Simulation-Timesteps-and-Unit-of-Time-dt)\n",
    "    * [Changing the Ethereum Network Upgrade Stage](#Changing-the-Ethereum-Network-Upgrade-Stage)\n",
    "    * [Performing Large-scale Experiments](#Performing-Large-scale-Experiments)"
   ]
  },
  {
   "cell_type": "markdown",
   "id": "5335577a",
   "metadata": {},
   "source": [
    "# Overview of Experiment Architecture\n",
    "\n",
    "The experiment architecture is composed of the following four elements – the **model**, **default experiment**, **experiment templates**, and **experiment notebooks**:\n",
    "\n",
    "1. The **model** is initialized with a default Initial State and set of System Parameters defined in the `model` module.\n",
    "2. The **default experiment** – in the `experiments.default_experiment` module – is an experiment composed of a single simulation that uses the default cadCAD **model** Initial State and System Parameters. Additional default simulation execution settings such as the number of timesteps and runs are also set in the **default experiment**.\n",
    "3. The **experiment templates** – in the `experiments.templates` module – contain pre-configured analyses based on the **default experiment**. Examples include `experiments.templates.time_domain_analysis` (simulation in the time-domain over a period of 5 years) and `experiments.templates.eth_price_sweep_analysis` (simulation in the phase-space sweeping over discrete ETH Price values).\n",
    "4. The **experiment notebooks** perform various scenario analyses by importing existing **experiment templates**, optionally modifying the Initial State and System Parameters within the notebook, and then executing them."
   ]
  },
  {
   "cell_type": "markdown",
   "id": "34345968",
   "metadata": {},
   "source": [
    "# Experiment Workflow\n",
    "\n",
    "If you just want to run (execute) existing experiment notebooks, simply open the respective notebook and execute all cells."
   ]
  },
  {
   "cell_type": "markdown",
   "id": "6a3d6ab4",
   "metadata": {},
   "source": [
    "The experiment notebooks will start by importing some standard dependencies:"
   ]
  },
  {
   "cell_type": "code",
   "execution_count": null,
   "id": "80e70b16",
   "metadata": {},
   "outputs": [],
   "source": [
    "# Import the setup module:\n",
    "# * sets up the Python path\n",
    "# * runs shared notebook-configuration methods, such as loading IPython modules\n",
    "import setup\n",
    "\n",
    "# External dependencies\n",
    "import copy\n",
    "import logging\n",
    "import numpy as np\n",
    "from pprint import pprint\n",
    "import pandas as pd\n",
    "\n",
    "# Project dependencies\n",
    "import model.constants as constants\n",
    "import experiments.notebooks.visualizations as visualizations\n",
    "from experiments.run import run\n",
    "from experiments.utils import display_code"
   ]
  },
  {
   "cell_type": "markdown",
   "id": "8344e095",
   "metadata": {},
   "source": [
    "We can then import the default experiment, and create a copy of the simulation object – we create a new copy for each analysis we'd like to perform:"
   ]
  },
  {
   "cell_type": "code",
   "execution_count": null,
   "id": "9a789f32",
   "metadata": {},
   "outputs": [],
   "source": [
    "import experiments.default_experiment as default_experiment\n",
    "import experiments.templates.time_domain_analysis as time_domain_analysis\n",
    "import experiments.templates.eth_price_eth_staked_grid_analysis as eth_price_eth_staked_grid_analysis\n",
    "\n",
    "simulation_analysis_1 = copy.deepcopy(default_experiment.experiment.simulations[0])\n",
    "simulation_analysis_2 = copy.deepcopy(time_domain_analysis.experiment.simulations[0])\n",
    "simulation_analysis_3 = copy.deepcopy(eth_price_eth_staked_grid_analysis.experiment.simulations[0])"
   ]
  },
  {
   "cell_type": "markdown",
   "id": "b9460b62",
   "metadata": {},
   "source": [
    "We can use the `display_code` method to see the configuration of the default experiment before making changes:"
   ]
  },
  {
   "cell_type": "code",
   "execution_count": null,
   "id": "df71671c",
   "metadata": {},
   "outputs": [],
   "source": [
    "display_code(default_experiment)"
   ]
  },
  {
   "cell_type": "markdown",
   "id": "04bd7d53",
   "metadata": {},
   "source": [
    "## Modifying State Variables"
   ]
  },
  {
   "cell_type": "markdown",
   "id": "5807d1db",
   "metadata": {},
   "source": [
    "To view what the Initial State (radCAD model-configuration setting `initial_state`) of the State Variables are, and to what value they have been set, we can inspect the dictionary as follows:"
   ]
  },
  {
   "cell_type": "code",
   "execution_count": null,
   "id": "466f9f7f",
   "metadata": {},
   "outputs": [],
   "source": [
    "pprint(simulation_analysis_1.model.initial_state)"
   ]
  },
  {
   "cell_type": "markdown",
   "id": "0f20397e",
   "metadata": {},
   "source": [
    "To modify the value of **State Variables** for a specific analysis, you need to select the relevant simulation and update the chosen model Initial State. For example, updating the `eth_supply` Initial State to `100e6` (100 million ETH):"
   ]
  },
  {
   "cell_type": "code",
   "execution_count": null,
   "id": "c6ac17d6",
   "metadata": {},
   "outputs": [],
   "source": [
    "simulation_analysis_1.model.initial_state.update({\n",
    "    \"eth_supply\": 100e6, \n",
    "})"
   ]
  },
  {
   "cell_type": "markdown",
   "id": "2cb589e5",
   "metadata": {},
   "source": [
    "## Modifying System Parameters"
   ]
  },
  {
   "cell_type": "markdown",
   "id": "fbdcf7ed",
   "metadata": {},
   "source": [
    "To view what the System Parameters (radCAD model configuration setting `params`) are, and to what value they have been set, we can inspect the dictionary as follows:"
   ]
  },
  {
   "cell_type": "code",
   "execution_count": null,
   "id": "aacdf992",
   "metadata": {},
   "outputs": [],
   "source": [
    "pprint(simulation_analysis_1.model.params)"
   ]
  },
  {
   "cell_type": "markdown",
   "id": "7471a5ed",
   "metadata": {},
   "source": [
    "To modify the value of **System Parameters** for a specific analysis, you need to select the relevant simulation, and update the chosen model System Parameter (which is a list of values). For example, updating the `BASE_REWARD_FACTOR` System Parameter to a sweep of two values, `64` and `32`:"
   ]
  },
  {
   "cell_type": "code",
   "execution_count": null,
   "id": "650c6e84",
   "metadata": {},
   "outputs": [],
   "source": [
    "simulation_analysis_1.model.params.update({\n",
    "    \"BASE_REWARD_FACTOR\": [64, 32],\n",
    "})"
   ]
  },
  {
   "cell_type": "markdown",
   "id": "de531fb7",
   "metadata": {},
   "source": [
    "## Executing Experiments"
   ]
  },
  {
   "cell_type": "markdown",
   "id": "bb69b0e8",
   "metadata": {},
   "source": [
    "We can now execute our custom analysis and retrieve the post-processed Pandas DataFrame using the `run(...)` method:"
   ]
  },
  {
   "cell_type": "code",
   "execution_count": null,
   "id": "10d9a34e",
   "metadata": {},
   "outputs": [],
   "source": [
    "df, exceptions = run(simulation_analysis_1)"
   ]
  },
  {
   "cell_type": "markdown",
   "id": "d08319ab",
   "metadata": {},
   "source": [
    "## Post-processing and Analysing Results"
   ]
  },
  {
   "cell_type": "markdown",
   "id": "cf691aa9",
   "metadata": {},
   "source": [
    "We can see that we had no exceptions for the single simulation we executed:"
   ]
  },
  {
   "cell_type": "code",
   "execution_count": null,
   "id": "dbb2f778",
   "metadata": {},
   "outputs": [],
   "source": [
    "exceptions[0]['exception'] == None"
   ]
  },
  {
   "cell_type": "markdown",
   "id": "74b7756c",
   "metadata": {},
   "source": [
    "We can simply display the Pandas DataFrame to inspect the results. This DataFrame already has some default post-processing applied (see [experiments/post_processing.py](../post_processing.py))"
   ]
  },
  {
   "cell_type": "code",
   "execution_count": null,
   "id": "d4326124",
   "metadata": {},
   "outputs": [],
   "source": [
    "df"
   ]
  },
  {
   "cell_type": "markdown",
   "id": "26f2e7ef",
   "metadata": {},
   "source": [
    "## Visualizing Results"
   ]
  },
  {
   "cell_type": "markdown",
   "id": "6ac53e3b",
   "metadata": {},
   "source": [
    "Once we have the results post-processed and in a Pandas DataFrame, we can use Plotly for plotting our results, or Pandas for numerical analyses:"
   ]
  },
  {
   "cell_type": "code",
   "execution_count": null,
   "id": "44c4d969",
   "metadata": {},
   "outputs": [],
   "source": [
    "visualizations.plot_validating_rewards(df, subplot_titles=[\"Base Reward Factor = 64\", \"Base Reward Factor = 32\"])"
   ]
  },
  {
   "cell_type": "markdown",
   "id": "3bb124e9",
   "metadata": {},
   "source": [
    "# Creating New, Customized Experiment Notebooks\n",
    "\n",
    "If you want to create an entirely new analysis, you'll need to create a new experiment notebook, which entails the following steps:\n",
    "* Step 1: Select a base experiment template from the `experiments/templates/` directory to start from. The template [example_analysis.py](../templates/example_analysis.py) gives an example of extending the default experiment to override default State Variables and System Parameters.\n",
    "* Step 2: Create a new notebook in the `experiments/notebooks/` directory, using the [template.ipynb](./template.ipynb) notebook as a guide, and import the experiment from the experiment template.\n",
    "* Step 3: Customize the experiment for your specific analysis.\n",
    "* Step 4: Execute your experiment, post-process and analyze the results, and create Plotly charts!"
   ]
  },
  {
   "cell_type": "markdown",
   "id": "239bfea4",
   "metadata": {},
   "source": [
    "# Advanced Experiment-configuration & Simulation Techniques"
   ]
  },
  {
   "cell_type": "markdown",
   "id": "616a0876",
   "metadata": {},
   "source": [
    "## Setting Simulation Timesteps and Unit of Time `dt`"
   ]
  },
  {
   "cell_type": "code",
   "execution_count": null,
   "id": "cb7b71f4",
   "metadata": {},
   "outputs": [],
   "source": [
    "from experiments.simulation_configuration import TIMESTEPS, DELTA_TIME, SIMULATION_TIME_MONTHS"
   ]
  },
  {
   "cell_type": "markdown",
   "id": "f1b8afec",
   "metadata": {},
   "source": [
    "We can configure the number of simulation timesteps `TIMESTEPS` from a simulation time in months `SIMULATION_TIME_MONTHS`, multiplied by the number of epochs in a month, and divided by the simulation unit of time `DELTA_TIME`:"
   ]
  },
  {
   "cell_type": "code",
   "execution_count": null,
   "id": "ce21a6ae",
   "metadata": {},
   "outputs": [],
   "source": [
    "SIMULATION_TIME_MONTHS / 12  # Divide months by 12 to get number of years"
   ]
  },
  {
   "cell_type": "markdown",
   "id": "2522ddd4",
   "metadata": {},
   "source": [
    "`DELTA_TIME` is a variable that sets how many epochs are simulated for each timestep. Sometimes, if we don't need a finer granularity (1 epoch per timestep, for example), we can then set `DELTA_TIME` to a larger value for better performance. The default value is 1 day or `225` epochs. This means that all our time-based states will be for a period of 1 day (we call this \"aggregation\"), which is convenient."
   ]
  },
  {
   "cell_type": "code",
   "execution_count": null,
   "id": "e0062645",
   "metadata": {},
   "outputs": [],
   "source": [
    "DELTA_TIME"
   ]
  },
  {
   "cell_type": "markdown",
   "id": "460e7a7a",
   "metadata": {},
   "source": [
    "`TIMESTEPS` is now simply the simulation time in months, multiplied by the number of epochs in a month, divided by `DELTA_TIME`:"
   ]
  },
  {
   "cell_type": "markdown",
   "id": "31103059",
   "metadata": {},
   "source": [
    "```python\n",
    "TIMESTEPS = constants.epochs_per_month * SIMULATION_TIME_MONTHS // DELTA_TIME\n",
    "```"
   ]
  },
  {
   "cell_type": "code",
   "execution_count": null,
   "id": "3568dcc2",
   "metadata": {},
   "outputs": [],
   "source": [
    "TIMESTEPS"
   ]
  },
  {
   "cell_type": "markdown",
   "id": "3c877b56",
   "metadata": {},
   "source": [
    "Finally, to set the simulation timesteps (note, you may have to update the environmental processes that depend on the number of timesteps, and override the relevant parameters):"
   ]
  },
  {
   "cell_type": "code",
   "execution_count": null,
   "id": "d7f070d6",
   "metadata": {},
   "outputs": [],
   "source": [
    "simulation_analysis_1.timesteps = TIMESTEPS"
   ]
  },
  {
   "cell_type": "markdown",
   "id": "9113b2bf",
   "metadata": {},
   "source": [
    "### Considerations When Performing Efficient Phase-space Simulations"
   ]
  },
  {
   "cell_type": "markdown",
   "id": "bf01829f",
   "metadata": {},
   "source": [
    "In `simulation_analysis_3`, `timesteps` is decreased to `1`, but `dt` is increased to `TIMESTEPS * DELTA_TIME`, where `DELTA_TIME` is the full duration of the simulation. This produces the final result in a single processing cycle, producing the full phase-space with very low processing overhead. This is achieved by ignoring all time-series information between the beginning and end of the simulation.\n",
    "\n",
    "There is a test function `test_dt(...)` in `tests/test_integration.py` that can be used to verify that no information is lost due to the approximations taken along the time axis for the specific State Variables that you are interested in, and that your custom code has not introduced mechanisms that might not work well with this kind of approximation. \n",
    "\n",
    "An example of a type of mechanism that would not work with this kind of approximation is a mechanism that implements some form of feedback loop."
   ]
  },
  {
   "cell_type": "markdown",
   "id": "2b9011d0",
   "metadata": {},
   "source": [
    "## Changing the Ethereum Network Upgrade Stage"
   ]
  },
  {
   "cell_type": "markdown",
   "id": "c871e49a",
   "metadata": {},
   "source": [
    "The model operates over different Ethereum-network upgrade stages. The default experiment operates in the \"post-merge\" Proof of Stake stage.\n",
    "\n",
    "`Stage` is an Enum; we can import it and see what options we have:"
   ]
  },
  {
   "cell_type": "code",
   "execution_count": null,
   "id": "8f3a5e5a",
   "metadata": {},
   "outputs": [],
   "source": [
    "from model.types import Stage"
   ]
  },
  {
   "cell_type": "markdown",
   "id": "2fd3d0b8",
   "metadata": {},
   "source": [
    "The model is well documented, and we can view the Python docstring to see what a Stage is, and create a dictionary to view the Enum members:"
   ]
  },
  {
   "cell_type": "code",
   "execution_count": null,
   "id": "a560f5be",
   "metadata": {},
   "outputs": [],
   "source": [
    "print(Stage.__doc__)\n",
    "{e.name: e.value for e in Stage}"
   ]
  },
  {
   "cell_type": "markdown",
   "id": "25891c08",
   "metadata": {},
   "source": [
    "The `PROOF_OF_STAKE` stage, for example, assumes the Beacon Chain has been implemented, EIP-1559 has been enabled, and POW issuance is disabled:"
   ]
  },
  {
   "cell_type": "code",
   "execution_count": null,
   "id": "b251c46a",
   "metadata": {},
   "outputs": [],
   "source": [
    "display_code(Stage)"
   ]
  },
  {
   "cell_type": "markdown",
   "id": "3d083401",
   "metadata": {},
   "source": [
    "As before, we can update the \"stage\" System Parameter to set the relevant Stage:"
   ]
  },
  {
   "cell_type": "code",
   "execution_count": null,
   "id": "fe95b515",
   "metadata": {},
   "outputs": [],
   "source": [
    "simulation_analysis_1.model.params.update({\n",
    "    \"stage\": [Stage.PROOF_OF_STAKE]\n",
    "})"
   ]
  },
  {
   "cell_type": "markdown",
   "id": "b87aa002",
   "metadata": {},
   "source": [
    "## Performing Large-scale Experiments"
   ]
  },
  {
   "cell_type": "markdown",
   "id": "8d08f7cb",
   "metadata": {},
   "source": [
    "When executing an experiment, we have three degrees of freedom - **simulations, runs, and subsets** (parameter sweeps).\n",
    "\n",
    "We can have multiple simulations for a single experiment, multiple runs for every simulation, and we can have multiple subsets for every run. Remember that `simulation`, `run`, and `subset` are simply additional State Variables set by the radCAD engine during execution – we then use those State Variables to index the results for a specific dimension, e.g. simulation 1, run 5, and subset 2.\n",
    "\n",
    "Each dimension has a generally accepted purpose:\n",
    "* Simulations are used for A/B testing\n",
    "* Runs are used for Monte Carlo analysis\n",
    "* Subsets are used for parameter sweeps\n",
    "\n",
    "In some cases, we break these \"rules\" to allow for more degrees of freedom or easier configuration.\n",
    "\n",
    "One example of this is the `eth_price_eth_staked_grid_analysis` experiment template we imported earlier:"
   ]
  },
  {
   "cell_type": "code",
   "execution_count": null,
   "id": "82d7720a",
   "metadata": {},
   "outputs": [],
   "source": [
    "display_code(eth_price_eth_staked_grid_analysis)"
   ]
  },
  {
   "cell_type": "markdown",
   "id": "7478d82a",
   "metadata": {},
   "source": [
    "Here, we create a grid of two State Variables – ETH price and ETH staked – using the `eth_price_process` and `eth_staked_process`.\n",
    "\n",
    "Instead of sweeping the two System Parameters to create different subsets, we pre-generate all possible combinations of the two values first and use the specific `run` to index the data, i.e. for each run we get a new ETH price and ETH staked sample.\n",
    "\n",
    "This allows the experimenter (you!) to use a parameter sweep on top of this analysis if they choose, and we have kept one degree of freedom."
   ]
  },
  {
   "cell_type": "markdown",
   "id": "fe247f18",
   "metadata": {},
   "source": [
    "### Composing an Experiment Using **simulations, runs, and subsets**"
   ]
  },
  {
   "cell_type": "code",
   "execution_count": null,
   "id": "99b0be11",
   "metadata": {},
   "outputs": [],
   "source": [
    "from radcad import Experiment, Engine, Backend\n",
    "\n",
    "\n",
    "# Create a new Experiment of three Simulations:\n",
    "# * Simulation Analysis 1 has one run and two subsets – a parameter sweep of two values (BASE_REWARD_FACTOR = [64, 32])\n",
    "# * Simulation Analysis 2 has one run and one subset – a basic simulation configuration\n",
    "# * Simulation Analysis 3 has 400 runs (20 * 20) and one subset – a parameter grid indexed using `run`\n",
    "experiment = Experiment([simulation_analysis_1, simulation_analysis_2, simulation_analysis_3])"
   ]
  },
  {
   "cell_type": "markdown",
   "id": "eb7be8ca",
   "metadata": {},
   "source": [
    "### Configuring the radCAD Engine for High Performance\n",
    "\n",
    "To improve simulation performance for large-scale experiments, we can set the following settings using the radCAD `Engine`. Both Experiments and Simulations have the same `Engine`; when executing an `Experiment` we set these settings on the `Experiment` instance:"
   ]
  },
  {
   "cell_type": "code",
   "execution_count": null,
   "id": "3dea43e2",
   "metadata": {},
   "outputs": [],
   "source": [
    "# Configure Experiment Engine\n",
    "experiment.engine = Engine(\n",
    "    # Use a single process; the overhead of creating multiple processes\n",
    "    # for parallel-processing is only worthwhile when the Simulation runtime is long\n",
    "    backend = Backend.SINGLE_PROCESS,\n",
    "    # Disable System Parameter and State Variable deepcopy:\n",
    "    # * Deepcopy prevents mutation of state at the cost of lower performance\n",
    "    # * Disabling it leaves it up to the experimenter to use Python best-practises to avoid \n",
    "    # state mutation, like manually using `copy` and `deepcopy` methods before\n",
    "    # performing mutating calculations when necessary\n",
    "    deepcopy = False,\n",
    "    # If we don't need the state history from individual substeps,\n",
    "    # we can get rid of them for higher performance\n",
    "    drop_substeps = True,\n",
    ")\n",
    "\n",
    "# Disable logging\n",
    "# For large experiments, there is lots of logging. This can get messy...\n",
    "logger = logging.getLogger()\n",
    "logger.disabled = True\n",
    "\n",
    "# Execute Experiment\n",
    "raw_results = experiment.run()"
   ]
  },
  {
   "cell_type": "markdown",
   "id": "b4b7b571",
   "metadata": {},
   "source": [
    "### Indexing a Large-scale Experiment Dataset"
   ]
  },
  {
   "cell_type": "code",
   "execution_count": null,
   "id": "b26e20a3",
   "metadata": {},
   "outputs": [],
   "source": [
    "# Create a Pandas DataFrame from the raw results\n",
    "df = pd.DataFrame(experiment.results)\n",
    "df"
   ]
  },
  {
   "cell_type": "code",
   "execution_count": null,
   "id": "92a9b2c6",
   "metadata": {},
   "outputs": [],
   "source": [
    "# Select each Simulation dataset\n",
    "df_0 = df[df.simulation == 0]\n",
    "df_1 = df[df.simulation == 1]\n",
    "df_2 = df[df.simulation == 2]\n",
    "\n",
    "datasets = [df_0, df_1, df_2]\n",
    "\n",
    "# Determine size of Simulation datasets\n",
    "for index, data in enumerate(datasets):\n",
    "    runs = len(data.run.unique())\n",
    "    subsets = len(data.subset.unique())\n",
    "    timesteps = len(data.timestep.unique())\n",
    "    \n",
    "    print(f\"Simulation {index} has {runs} runs * {subsets} subsets * {timesteps} timesteps = {runs * subsets * timesteps} rows\")"
   ]
  },
  {
   "cell_type": "code",
   "execution_count": null,
   "id": "4cca413b",
   "metadata": {},
   "outputs": [],
   "source": [
    "# Indexing simulation 0, run 1 (indexed from one!), subset 1, timestep 1\n",
    "df.query(\"simulation == 0 and run == 1 and subset == 1 and timestep == 1\")"
   ]
  }
 ],
 "metadata": {
  "kernelspec": {
   "display_name": "Python (CADLabs Ethereum Model)",
   "language": "python",
   "name": "python-cadlabs-eth-model"
  },
  "language_info": {
   "codemirror_mode": {
    "name": "ipython",
    "version": 3
   },
   "file_extension": ".py",
   "mimetype": "text/x-python",
   "name": "python",
   "nbconvert_exporter": "python",
   "pygments_lexer": "ipython3",
   "version": "3.8.11"
  }
 },
 "nbformat": 4,
 "nbformat_minor": 5
}
