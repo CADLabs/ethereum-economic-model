{
 "cells": [
  {
   "cell_type": "markdown",
   "id": "ea8ea49c",
   "metadata": {},
   "source": [
    "# Experiment Notebook: Model Validation"
   ]
  },
  {
   "cell_type": "markdown",
   "id": "c2ba70b7",
   "metadata": {},
   "source": [
    "# Table of Contents\n",
    "* [Experiment Summary](#Experiment-Summary)\n",
    "* [Experiment Assumptions](#Experiment-Assumptions)\n",
    "* [Experiment Setup](#Experiment-Setup)\n",
    "* [Analysis 1: Profit Yields Across Validator Environments](#Analysis-1:-Profit-Yields-Across-Validator-Environments)\n",
    "* [Analysis 2: Network Yields and Network Inflation](#Analysis-2:-Network-Yields-and-Network-Inflation)\n",
    "* [Analysis 3: Revenue/Profit Yield Spread (\"Three Region Analysis\")](#Analysis-3:-Revenue/Profit-Yield-Spread-(\"Three-Region-Analysis\"))"
   ]
  },
  {
   "cell_type": "markdown",
   "id": "dac9832b",
   "metadata": {},
   "source": [
    "# Experiment Summary \n",
    "\n",
    "The purpose of this notebook is to recreate selected scenario analyses from the (widely acknowledged) [Hoban/Borgers Ethereum 2.0 Economic Model](https://docs.google.com/spreadsheets/d/1y18MoYSBLlHZ-ueN9m0a-JpC6tYjqDtpISJ6_WdicdE) using the CADLabs model, and to compare the results. \n",
    "\n",
    "**Analysis 1, \"Profit Yields Across Validator Environments\"**, plots the average profitability of validators across different validator environments in two different adoption (i.e. total ETH staked) scenarios and a wide range of ETH prices. A description of the different validator environments and respective assumptions can be found in the [assumptions document](../../ASSUMPTIONS.md). \n",
    "\n",
    "**Analysis 2, \"Network Yields and Network Inflation\"**, combines the simulation of average (i.e. not validator-environment specific) Revenue Yields, Profit Yields (across two illustrative ETH price levels), with the associated overall network inflation. \n",
    "\n",
    "**Analysis 3, \"Revenue/Profit Yield Spread \"Three Region Analysis\"\"**, compares the spread between average (i.e. not validator-environment specific) Revenue Yields and Profit Yields across a wide range of ETH prices, and across the two adoption scenarios seen earlier in this notebook.\n",
    "\n",
    "These analyses and illustrative insights will be described in further detail in their corresponding sections.\n",
    "\n",
    "# Experiment Assumptions\n",
    "\n",
    "Our model adopts a range of assumptions from the Hoban/Borgers Ethereum 2.0 Economic Model (notably all validator cost assumptions across validator environments).\n",
    "However, because the Hoban/Borgers Model was published pre-Altair and the CADLabs model post-Altair, some assumptions differ slightly (notably validator incentive parameters, and rewards such as the new sync committee reward). Hence, rather than a perfect match of simulation results, we expect a very close match, which will serve the purpose of a sanity check.\n",
    "\n",
    "See [assumptions document](../../ASSUMPTIONS.md) for further details."
   ]
  },
  {
   "cell_type": "markdown",
   "id": "91f4c9e8",
   "metadata": {},
   "source": [
    "# Experiment Setup\n",
    "\n",
    "We begin with several experiment-notebook-level preparatory setup operations:\n",
    "\n",
    "* Import relevant dependencies\n",
    "* Import relevant experiment templates\n",
    "* Create copies of experiments\n",
    "* Configure and customize experiments \n",
    "\n",
    "Analysis-specific setup operations are handled in their respective notebook sections."
   ]
  },
  {
   "cell_type": "code",
   "execution_count": null,
   "id": "f9e5f3a2",
   "metadata": {},
   "outputs": [],
   "source": [
    "import setup\n",
    "\n",
    "import copy\n",
    "import logging\n",
    "import numpy as np\n",
    "from radcad import Engine\n",
    "\n",
    "import experiments.notebooks.visualizations as visualizations\n",
    "from experiments.run import run\n",
    "from model.types import Stage"
   ]
  },
  {
   "cell_type": "code",
   "execution_count": null,
   "id": "4aa470f0",
   "metadata": {},
   "outputs": [],
   "source": [
    "# Enable/disable logging\n",
    "logger = logging.getLogger()\n",
    "logger.disabled = True"
   ]
  },
  {
   "cell_type": "code",
   "execution_count": null,
   "id": "7da657dd",
   "metadata": {},
   "outputs": [],
   "source": [
    "# Import experiment templates\n",
    "from experiments.default_experiment import experiment, TIMESTEPS, DELTA_TIME"
   ]
  },
  {
   "cell_type": "code",
   "execution_count": null,
   "id": "2c929b85",
   "metadata": {},
   "outputs": [],
   "source": [
    "# Create a copy of the simulation\n",
    "simulation = copy.deepcopy(experiment.simulations[0])\n",
    "\n",
    "# Override default-experiment System Parameters\n",
    "# using assumptions from Hoban/Borgers Economic Report\n",
    "simulation.model.params.update({\n",
    "    \"stage\": [Stage.BEACON_CHAIN],\n",
    "    \"daily_pow_issuance\": [0],  # ETH\n",
    "    # Combine the validator internet (99.9%), power (99.9%), and technical (98.2%) uptime\n",
    "    # from Hoban/Borgers Report\n",
    "    \"validator_uptime_process\": [lambda _run, _timestep: 0.999 * 0.999 * 0.982],  # Percentage (unitless)\n",
    "})\n",
    "\n",
    "# Override default-experiment State Variables\n",
    "# using assumptions from Hoban/Borgers Economic Report\n",
    "simulation.model.initial_state.update({\n",
    "    \"eth_supply\": 112_000_000,  # ETH\n",
    "    \"eth_price\": 25,  # USD/ETH\n",
    "    \"eth_staked\": 524_288,  # ETH\n",
    "    \"number_of_validators\": 16_384,  # Unitless\n",
    "})\n",
    "\n",
    "# Set runs to number of ETH price / staked samples\n",
    "simulation.runs = 50\n",
    "# Run single timestep, set unit of time `dt` to multiple epochs\n",
    "# (see 0_README.ipynb for further details)\n",
    "simulation.timesteps = 1\n",
    "simulation.model.params.update({\"dt\": [TIMESTEPS * DELTA_TIME]})\n",
    "\n",
    "# Drop state history substeps to improve performance\n",
    "# (see 0_README.ipynb for further details)\n",
    "simulation.engine = Engine(drop_substeps=True)"
   ]
  },
  {
   "cell_type": "markdown",
   "id": "95ba12a0",
   "metadata": {},
   "source": [
    "## Analysis 1: Profit Yields Across Validator Environments"
   ]
  },
  {
   "cell_type": "markdown",
   "id": "4065e855",
   "metadata": {},
   "source": [
    "The below analysis from the [Hoban/Borgers Ethereum 2.0 Economic Model](https://docs.google.com/spreadsheets/d/1y18MoYSBLlHZ-ueN9m0a-JpC6tYjqDtpISJ6_WdicdE) simulates how the average annual-validator profitability varies across validator environments (deployment type) and ETH price ranges. The first analysis simulates the original Beacon Chain minimum requirement of 524,288 ETH staked, the second analysis a much higher adoption level at 33,6m ETH staked. Insights include:\n",
    "* The average annual-validator profitability across all validator environments is much lower in the high-adoption scenario due to systematically lower revenue yields\n",
    "* As ETH approaches very low price levels, a \"profitability cliff\" exists for all non-StaaS (Staking-as-a-Service) validator environments in both adoption scenarios (assumes that StaaS providers offer constant ETH returns)\n",
    "* Average annual-validator profitability between validator environments converge as adoption and ETH price grow, due to decreasing relevance of operational costs\n",
    "\n",
    "In a next step, we will recreate the below analysis using the CADLabs model and compare the results."
   ]
  },
  {
   "cell_type": "markdown",
   "id": "226f5d66",
   "metadata": {},
   "source": [
    "Annualized Model - Profit Yields of Validator Environments at 524_288 ETH Staked | Annualized Model - Profit Yields of Validator Environments at 33_600_000 ETH Staked\n",
    "- | - |\n",
    "![alt](../outputs/hoban_borgers_economic_model/experiment_model_validation_scenario_1a.png) | ![alt](../outputs/hoban_borgers_economic_model/experiment_model_validation_scenario_1b.png) |"
   ]
  },
  {
   "cell_type": "markdown",
   "id": "e76d2631",
   "metadata": {},
   "source": [
    "### Configuration"
   ]
  },
  {
   "cell_type": "code",
   "execution_count": null,
   "id": "906603ad",
   "metadata": {},
   "outputs": [],
   "source": [
    "# Create a copy of the simulation\n",
    "simulation_1 = copy.deepcopy(simulation)\n",
    "\n",
    "# Create a range of 50 discrete ETH price values starting at\n",
    "# 25 USD/ETH and ending at 1500 USD/ETH\n",
    "# Assumption adopted from Hoban/Borgers Economic Report\n",
    "eth_price_samples = np.linspace(\n",
    "    start=25,\n",
    "    stop=1500,\n",
    "    num=50\n",
    ")\n",
    "\n",
    "parameter_overrides = {\n",
    "    \"eth_price_process\": [\n",
    "        # Sample the ETH price values using the run as the index\n",
    "        lambda run, timestep: eth_price_samples[run - 1]\n",
    "    ],\n",
    "    \"eth_staked_process\": [\n",
    "        # A sweep of two fixed ETH staked points\n",
    "        # Assumption adopted from Hoban/Borgers Economic Report\n",
    "        lambda _run, _timestep: 524_288,  # Beacon Chain genesis ETH staked requirement\n",
    "        lambda _run, _timestep: 33_600_000,  # 30% of the total ETH supply\n",
    "    ],\n",
    "}\n",
    "\n",
    "# Override default experiment parameters\n",
    "simulation_1.model.params.update(parameter_overrides)"
   ]
  },
  {
   "cell_type": "markdown",
   "id": "f88d7240",
   "metadata": {},
   "source": [
    "### Execution"
   ]
  },
  {
   "cell_type": "code",
   "execution_count": null,
   "id": "c89fcd74",
   "metadata": {},
   "outputs": [],
   "source": [
    "df_1, exceptions = run(simulation_1)"
   ]
  },
  {
   "cell_type": "markdown",
   "id": "f5b71068",
   "metadata": {},
   "source": [
    "### Output Preparation"
   ]
  },
  {
   "cell_type": "code",
   "execution_count": null,
   "id": "517dfb23",
   "metadata": {},
   "outputs": [],
   "source": [
    "df_1"
   ]
  },
  {
   "cell_type": "markdown",
   "id": "beb1ac25",
   "metadata": {},
   "source": [
    "### Analysis Results\n",
    "\n",
    "The below plots recreate Hoban/Borgers' analysis using the same validator adoption levels (524,288 ETH to 33,6m ETH) and cost assumptions. The profit yields across validator environments and adoption levels match very closely (e.g. at the 524,288 ETH staked adoption level and assuming an ETH price of 500 USD/ETH, profit yields for a StaaS validator are shown at around 18-19%; those were profitable days. We conclude that the model is valid for this specific analysis."
   ]
  },
  {
   "cell_type": "code",
   "execution_count": null,
   "id": "ed5d07b5",
   "metadata": {},
   "outputs": [],
   "source": [
    "visualizations.plot_validator_environment_yields(df_1.copy())"
   ]
  },
  {
   "cell_type": "markdown",
   "id": "b820214d",
   "metadata": {},
   "source": [
    "## Analysis 2: Network Yields and Network Inflation"
   ]
  },
  {
   "cell_type": "markdown",
   "id": "eefd57c3",
   "metadata": {},
   "source": [
    "The below analysis from the [Hoban/Borgers Ethereum 2.0 Economic Model](https://docs.google.com/spreadsheets/d/1y18MoYSBLlHZ-ueN9m0a-JpC6tYjqDtpISJ6_WdicdE) combines the simulation of average (i.e. not validator-environment specific) Revenue Yields, Profit Yields (across two illutrative ETH price levels), with the associated overall network inflation. Illustrative insights include:\n",
    "* Both Revenue Yields and Profit Yields decrease systematically as adoption grows (base-reward decreases at square root of number of validators, hence yields decrease)\n",
    "* Profit Yields at the 25 USD/ETH price level are lower (in fact negative as adoption grows) than at the 1500 USD/ETH price level (decreasing relevance of operational costs)\n",
    "* Network issuance is expected to stay below 1% per year (and in fact turn negative after EIP-1559 implementation) \n",
    "\n",
    "In a next step, we will recreate the below analysis using the CADLabs model and compare the results."
   ]
  },
  {
   "cell_type": "code",
   "execution_count": null,
   "id": "b70c8da9",
   "metadata": {},
   "outputs": [],
   "source": [
    "profit_yield_at_1500_dollars = 20.48\n",
    "profit_yield_at_25_dollars = 14.39"
   ]
  },
  {
   "cell_type": "code",
   "execution_count": null,
   "id": "f62b7cee",
   "metadata": {},
   "outputs": [],
   "source": [
    "# Difference between profit yields for each ETH price scenario\n",
    "profit_yield_at_1500_dollars - profit_yield_at_25_dollars"
   ]
  },
  {
   "cell_type": "markdown",
   "id": "6e12440a",
   "metadata": {},
   "source": [
    "Annualized Model – Rev Yields vs. Network Inflation\n",
    "<span style=\"display:block;\"><img src=\"../outputs/hoban_borgers_economic_model/experiment_model_validation_scenario_2.png\" width=\"50%\"/></span>"
   ]
  },
  {
   "cell_type": "markdown",
   "id": "a79a818e",
   "metadata": {},
   "source": [
    "### Configuration"
   ]
  },
  {
   "cell_type": "code",
   "execution_count": null,
   "id": "d40e8cdd",
   "metadata": {},
   "outputs": [],
   "source": [
    "# Create a copy of the simulation\n",
    "simulation_2 = copy.deepcopy(simulation)\n",
    "\n",
    "# Create a range of 50 discrete ETH staked values starting at\n",
    "# the Beacon Chain genesis requirement of 524_288 ETH staked and ending at\n",
    "# 30% of the ETH supply (33_600_000 ETH staked at time of report)\n",
    "# Assumption adopted from Hoban/Borgers Economic Report\n",
    "eth_staked_samples = np.linspace(\n",
    "    524_288,\n",
    "    33_600_000,\n",
    "    50\n",
    ")\n",
    "\n",
    "parameter_overrides = {\n",
    "    \"eth_staked_process\": [\n",
    "        # Sample the ETH staked values using the run as the index\n",
    "        lambda run, timestep: eth_staked_samples[run - 1],\n",
    "    ],\n",
    "    \"eth_price_process\": [\n",
    "        # A sweep of two fixed ETH price points\n",
    "        # Assumption adopted from Hoban/Borgers Economic Report\n",
    "        lambda _run, _timestep: 25,\n",
    "        lambda _run, _timestep: 1500,\n",
    "    ],\n",
    "}\n",
    "\n",
    "# Override default experiment parameters\n",
    "simulation_2.model.params.update(parameter_overrides)"
   ]
  },
  {
   "cell_type": "markdown",
   "id": "9a428786",
   "metadata": {},
   "source": [
    "### Execution"
   ]
  },
  {
   "cell_type": "code",
   "execution_count": null,
   "id": "e45f0e03",
   "metadata": {},
   "outputs": [],
   "source": [
    "df_2, exceptions = run(simulation_2)"
   ]
  },
  {
   "cell_type": "markdown",
   "id": "cd04f6cd",
   "metadata": {},
   "source": [
    "### Output Preparation"
   ]
  },
  {
   "cell_type": "code",
   "execution_count": null,
   "id": "1fca2536",
   "metadata": {},
   "outputs": [],
   "source": [
    "df_2"
   ]
  },
  {
   "cell_type": "markdown",
   "id": "ab559ebd",
   "metadata": {},
   "source": [
    "### Analysis Results\n",
    "\n",
    "The below plot recreates Hoban/Borgers' analysis. The Profit Yields in each ETH price scenario differ slightly between the Hoban/Borgers and the CADLabs model – likely due to the Altair updates – whereas the annualized inflation rates match very closely, within `0.01` of a percent. We conclude that the model is valid for this specific scenario analysis."
   ]
  },
  {
   "cell_type": "code",
   "execution_count": null,
   "id": "887c6bb8",
   "metadata": {},
   "outputs": [],
   "source": [
    "visualizations.plot_revenue_yields_vs_network_inflation(df_2)"
   ]
  },
  {
   "cell_type": "code",
   "execution_count": null,
   "id": "72d93378",
   "metadata": {},
   "outputs": [],
   "source": [
    "# Difference between profit yields for each ETH price scenario\n",
    "df_2.query('subset == 1').iloc[0]['total_profit_yields_pct'] - df_2.query('subset == 0').iloc[0]['total_profit_yields_pct']"
   ]
  },
  {
   "cell_type": "code",
   "execution_count": null,
   "id": "7a271922",
   "metadata": {},
   "outputs": [],
   "source": [
    "# Minimum and maximum annualized inflation rate\n",
    "(df_2.query('subset == 0')['supply_inflation'] * 100).describe()"
   ]
  },
  {
   "cell_type": "markdown",
   "id": "e5ea5e15",
   "metadata": {},
   "source": [
    "## Analysis 3: Revenue/Profit Yield Spread (\"Three Region Analysis\")"
   ]
  },
  {
   "cell_type": "markdown",
   "id": "5c46bf1d",
   "metadata": {},
   "source": [
    "The below \"Three Region Analysis\" from the [Hoban/Borgers Ethereum 2.0 Economic Model](https://docs.google.com/spreadsheets/d/1y18MoYSBLlHZ-ueN9m0a-JpC6tYjqDtpISJ6_WdicdE) compares the spread between average (i.e. not validator-environment specific) Revenue Yields and Profit Yields across a wide range of ETH prices, and across the two adoption scenarios seen earlier in this notebook. Illustrative insights include:\n",
    "* As ETH approaches very low price levels, a \"profitability cliff\" exists in both adoption scenarios, as operational costs squeeze validators' margins\n",
    "* The Revenue/Profit Yield Spread is smaller in the high-adoption scenario as Revenue decreases, but costs remain constant in dollars\n",
    "\n",
    "In a next step, we will recreate the below analysis using the CADLabs model and compare the results."
   ]
  },
  {
   "cell_type": "markdown",
   "id": "fa9ff0cd",
   "metadata": {},
   "source": [
    "Annualized Model - Revenue/Profit Yield Spread at 524_288 ETH Staked | Annualized Model - Revenue/Profit Yield Spread at 33_600_000 ETH Staked\n",
    "- | - |\n",
    "![alt](../outputs/hoban_borgers_economic_model/experiment_model_validation_scenario_3a.png) | ![alt](../outputs/hoban_borgers_economic_model/experiment_model_validation_scenario_3b.png) |"
   ]
  },
  {
   "cell_type": "markdown",
   "id": "a0c7db25",
   "metadata": {},
   "source": [
    "### Configuration"
   ]
  },
  {
   "cell_type": "code",
   "execution_count": null,
   "id": "5877a2e2",
   "metadata": {},
   "outputs": [],
   "source": [
    "# Create a copy of the simulation\n",
    "simulation_3 = copy.deepcopy(simulation)\n",
    "\n",
    "# Create a range of 50 discrete ETH price values starting at\n",
    "# 25 USD/ETH and ending at 1500 USD/ETH\n",
    "# Assumption adopted from Hoban/Borgers Economic Report\n",
    "eth_price_samples = np.linspace(\n",
    "    start=25,\n",
    "    stop=1500,\n",
    "    num=50\n",
    ")\n",
    "\n",
    "parameter_overrides = {\n",
    "    \"eth_price_process\": [\n",
    "        # Sample the ETH price values using the run as the index\n",
    "        lambda run, _timestep: eth_price_samples[run - 1]\n",
    "    ],\n",
    "    \"eth_staked_process\": [\n",
    "        # A sweep of two fixed ETH staked points\n",
    "        # Assumption adopted from Hoban/Borgers Economic Report\n",
    "        lambda _run, _timestep: 524_288,  # Beacon Chain genesis ETH staked requirement\n",
    "        lambda _run, _timestep: 33_600_000,  # 30% of the total ETH supply\n",
    "    ],\n",
    "}\n",
    "\n",
    "# Override default experiment parameters\n",
    "simulation_3.model.params.update(parameter_overrides)"
   ]
  },
  {
   "cell_type": "markdown",
   "id": "3ef119af",
   "metadata": {},
   "source": [
    "### Execution"
   ]
  },
  {
   "cell_type": "code",
   "execution_count": null,
   "id": "ec3a747f",
   "metadata": {},
   "outputs": [],
   "source": [
    "df_3, exceptions = run(simulation_3)"
   ]
  },
  {
   "cell_type": "markdown",
   "id": "0c9e6d0d",
   "metadata": {},
   "source": [
    "### Output Preparation"
   ]
  },
  {
   "cell_type": "code",
   "execution_count": null,
   "id": "218c7fee",
   "metadata": {},
   "outputs": [],
   "source": [
    "df_3"
   ]
  },
  {
   "cell_type": "markdown",
   "id": "2f2f1bb4",
   "metadata": {},
   "source": [
    "### Analysis Results\n",
    "\n",
    "The below plots recreate Hoban/Borgers' analysis. The Revenue/Profit Yield Spread for our model closely matches the [Hoban/Borgers Ethereum 2.0 Economic Model](https://docs.google.com/spreadsheets/d/1y18MoYSBLlHZ-ueN9m0a-JpC6tYjqDtpISJ6_WdicdE) for both scenarios. We can conclude that the model is valid for this specific scenario analysis."
   ]
  },
  {
   "cell_type": "code",
   "execution_count": null,
   "id": "6aa7eea8",
   "metadata": {},
   "outputs": [],
   "source": [
    "visualizations.plot_three_region_yield_analysis(df_3.query('subset == 0').copy())"
   ]
  },
  {
   "cell_type": "code",
   "execution_count": null,
   "id": "c0a1d1a4",
   "metadata": {},
   "outputs": [],
   "source": [
    "visualizations.plot_three_region_yield_analysis(df_3.query('subset == 1').copy())"
   ]
  }
 ],
 "metadata": {
  "kernelspec": {
   "display_name": "Python 3",
   "language": "python",
   "name": "python3"
  },
  "language_info": {
   "codemirror_mode": {
    "name": "ipython",
    "version": 3
   },
   "file_extension": ".py",
   "mimetype": "text/x-python",
   "name": "python",
   "nbconvert_exporter": "python",
   "pygments_lexer": "ipython3",
   "version": "3.8.5"
  }
 },
 "nbformat": 4,
 "nbformat_minor": 5
}
