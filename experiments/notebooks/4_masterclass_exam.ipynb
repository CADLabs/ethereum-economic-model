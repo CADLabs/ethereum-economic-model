{
 "cells": [
  {
   "cell_type": "markdown",
   "metadata": {},
   "source": [
    "# Masterclass Capstone Exercise Notebook"
   ]
  },
  {
   "cell_type": "markdown",
   "metadata": {},
   "source": [
    "# Table of Contents\n",
    "* [Introduction](#Introduction)\n",
    "* [Experiment Setup](#Experiment-Setup)\n",
    "* [Exercises](#Exercises)"
   ]
  },
  {
   "cell_type": "markdown",
   "metadata": {},
   "source": [
    "# Introduction\n",
    "\n",
    "This experiment notebook accompanies the cadCAD Edu \"cadCAD Masterclass: Ethereum Validator Economics\" practical exam for Section 4. Questions are numbered and named as on the course exam webpage for Section 4.\n",
    "\n",
    "Where code needs to be completed or filled in to answer a specific question, this will be indicated as follows:\n",
    "```python\n",
    "#### Fill in the missing code ####\n",
    "# Assign the value 5 to variable x\n",
    "x = \n",
    "##################################\n",
    "```\n",
    "\n",
    "By running the code cell for the specific question, the answer will be printed out as `answer=...` at the end of the cell if completed correctly, and you can then select the corresponding multiple choice value on the exam webpage for the relevant question. You can also go to the end of the exercises section of this notebook to see all the completed answers."
   ]
  },
  {
   "cell_type": "markdown",
   "metadata": {},
   "source": [
    "# Experiment Setup"
   ]
  },
  {
   "cell_type": "code",
   "execution_count": null,
   "metadata": {},
   "outputs": [],
   "source": [
    "# Import the setup module:\n",
    "# * sets up the Python path\n",
    "# * runs shared notebook configuration methods, such as loading IPython modules\n",
    "import setup\n",
    "\n",
    "import copy\n",
    "import logging\n",
    "import numpy as np\n",
    "import pandas as pd\n",
    "import plotly.express as px\n",
    "from datetime import datetime\n",
    "\n",
    "import experiments.notebooks.visualizations as visualizations\n",
    "import model.constants as constants\n",
    "from experiments.run import run\n",
    "from experiments.utils import display_code\n",
    "from model.types import (\n",
    "    ETH,\n",
    "    USD_per_ETH,\n",
    "    Stage,\n",
    ")"
   ]
  },
  {
   "cell_type": "code",
   "execution_count": null,
   "metadata": {},
   "outputs": [],
   "source": [
    "# Import experiment templates\n",
    "import experiments.default_experiment as default_experiment"
   ]
  },
  {
   "cell_type": "code",
   "execution_count": null,
   "metadata": {},
   "outputs": [],
   "source": [
    "# Create a simulation for each analysis\n",
    "simulation = copy.deepcopy(default_experiment.experiment.simulations[0])"
   ]
  },
  {
   "cell_type": "code",
   "execution_count": null,
   "metadata": {},
   "outputs": [],
   "source": [
    "# Experiment configuration\n",
    "DELTA_TIME = constants.epochs_per_day  # epochs per timestep\n",
    "SIMULATION_TIME_MONTHS = 12 * 5  # number of months\n",
    "TIMESTEPS = constants.epochs_per_month * SIMULATION_TIME_MONTHS // DELTA_TIME\n",
    "\n",
    "eth_staked: ETH = 7_487_136\n",
    "number_of_active_validators: int = eth_staked // 32\n",
    "eth_supply: ETH = 117_386_100\n",
    "eth_block_rewards_mean: ETH = 13527\n",
    "\n",
    "initial_state_overrides = {\n",
    "    'eth_supply': eth_supply,\n",
    "    'eth_staked': eth_staked,\n",
    "    'number_of_active_validators': number_of_active_validators,\n",
    "    'number_of_awake_validators': number_of_active_validators,\n",
    "}\n",
    "\n",
    "parameter_overrides = {\n",
    "    'stage': [Stage.ALL],\n",
    "    'date_start': [datetime(2021,9,4)],\n",
    "    'validator_process': [lambda _run, _timestep: 3],\n",
    "    'daily_pow_issuance': [eth_block_rewards_mean],    \n",
    "}\n",
    "\n",
    "simulation.model.initial_state.update(initial_state_overrides)\n",
    "simulation.model.params.update(parameter_overrides)\n",
    "simulation.timesteps = TIMESTEPS"
   ]
  },
  {
   "cell_type": "markdown",
   "metadata": {},
   "source": [
    "# Exercises"
   ]
  },
  {
   "cell_type": "markdown",
   "metadata": {},
   "source": [
    "## Exercise 0:\n",
    "An illustrative/example question: Set the value for the System Parameter `dt` to the `DELTA_TIME` variable, execute the experiment, and find the maximum value for the `eth_supply` State Variable."
   ]
  },
  {
   "cell_type": "code",
   "execution_count": null,
   "metadata": {},
   "outputs": [],
   "source": [
    "#### Fill in the missing code ####\n",
    "\n",
    "# Set the System Parameter value as defined in the question\n",
    "simulation.model.params.update({\n",
    "    'dt': [DELTA_TIME]\n",
    "})\n",
    "\n",
    "##################################\n",
    "\n",
    "# Experiment execution\n",
    "df_0, _exceptions = run(simulation)"
   ]
  },
  {
   "cell_type": "code",
   "execution_count": null,
   "metadata": {},
   "outputs": [],
   "source": [
    "eth_supply_max = df_0['eth_supply'].max()"
   ]
  },
  {
   "cell_type": "code",
   "execution_count": null,
   "metadata": {},
   "outputs": [],
   "source": [
    "# Answer\n",
    "answer_0 = round(eth_supply_max)\n",
    "print(f'{answer_0=}')"
   ]
  },
  {
   "cell_type": "markdown",
   "metadata": {},
   "source": [
    "## Exercise 1:\n",
    "\n",
    "Configure a parameter sweep of the two values `None` and `524_288` for the `MAX_VALIDATOR_COUNT` System Parameter, execute the experiment, and determine the difference in `total_revenue_yields` at the last timestep."
   ]
  },
  {
   "cell_type": "code",
   "execution_count": null,
   "metadata": {},
   "outputs": [],
   "source": [
    "#### Fill in the missing code ####\n",
    "\n",
    "# Create a deepcopy of the `simulation` object\n",
    "# and assign it to the simulation for this question, `simulation_1`\n",
    "simulation_1 = copy.deepcopy()\n",
    "\n",
    "# Create a parameter sweep as defined in the question\n",
    "simulation_1.model.params.update({\n",
    "    'MAX_VALIDATOR_COUNT':\n",
    "})\n",
    "\n",
    "##################################\n",
    "\n",
    "# Experiment execution\n",
    "df_1, _exceptions = run(simulation_1)"
   ]
  },
  {
   "cell_type": "code",
   "execution_count": null,
   "metadata": {},
   "outputs": [],
   "source": [
    "absolute_difference = abs(df_1.query('subset == 0')['total_revenue_yields_pct'].iloc[-1] - df_1.query('subset == 1')['total_revenue_yields_pct'].iloc[-1])"
   ]
  },
  {
   "cell_type": "code",
   "execution_count": null,
   "metadata": {},
   "outputs": [],
   "source": [
    "# Answer\n",
    "answer_1 = round(absolute_difference, 2)\n",
    "print(f'{answer_1=}')"
   ]
  },
  {
   "cell_type": "code",
   "execution_count": null,
   "metadata": {},
   "outputs": [],
   "source": [
    "px.line(df_1, x='timestamp', y='total_revenue_yields_pct', facet_col='subset')"
   ]
  },
  {
   "cell_type": "markdown",
   "metadata": {},
   "source": [
    "## Exercise 2:\n",
    "\n",
    "What is the total profit of a single validator in the DIY Hardware Validator Environment over the first year?"
   ]
  },
  {
   "cell_type": "code",
   "execution_count": null,
   "metadata": {},
   "outputs": [],
   "source": [
    "simulation_2 = copy.deepcopy(simulation)\n",
    "\n",
    "# Experiment execution\n",
    "df_2, _exceptions = run(simulation_2)"
   ]
  },
  {
   "cell_type": "code",
   "execution_count": null,
   "metadata": {},
   "outputs": [],
   "source": [
    "df_2 = df_2.set_index('timestamp', drop=False)\n",
    "\n",
    "individual_diy_hardware_profit = df_2.first(\"365D\")[\n",
    "    #### Fill in the missing code ####\n",
    "    ''\n",
    "    ##################################\n",
    "] / df_2['diy_hardware_validator_count']\n",
    "\n",
    "#### Fill in the missing code ####\n",
    "sum_of_individual_diy_hardware_profit = individual_diy_hardware_profit.\n",
    "####################################"
   ]
  },
  {
   "cell_type": "code",
   "execution_count": null,
   "metadata": {},
   "outputs": [],
   "source": [
    "# Answer\n",
    "answer_2 = round(sum_of_individual_diy_hardware_profit)\n",
    "print(f'{answer_2=}')"
   ]
  },
  {
   "cell_type": "code",
   "execution_count": null,
   "metadata": {},
   "outputs": [],
   "source": [
    "df_2['cumulative_individual_diy_hardware_profit'] = (df_2['diy_hardware_profit'] / df_2['diy_hardware_validator_count']).transform('cumsum')\n",
    "px.line(df_2.first('365D'), x='timestamp', y='cumulative_individual_diy_hardware_profit')"
   ]
  },
  {
   "cell_type": "markdown",
   "metadata": {},
   "source": [
    "## Exercise 3:\n",
    "\n",
    "If the base fee (System Parameter `base_fee_process`) varies from `0` to `200` Gwei per gas, at which base fee value does the ETH supply become deflationary (i.e. negative inflation rate)?"
   ]
  },
  {
   "cell_type": "code",
   "execution_count": null,
   "metadata": {},
   "outputs": [],
   "source": [
    "simulation_3 = copy.deepcopy(simulation)\n",
    "\n",
    "#### Fill in the missing code ####\n",
    "base_fee_start = 0\n",
    "base_fee_stop = 200\n",
    "number_of_samples = 20\n",
    "##################################\n",
    "\n",
    "base_fee_process_samples = np.linspace(start=base_fee_start, stop=base_fee_stop, num=number_of_samples)\n",
    "\n",
    "simulation_3.model.params.update({\n",
    "    'dt': [constants.epochs_per_year],\n",
    "    'base_fee_process': [\n",
    "        #### Fill in the missing code ####\n",
    "        lambda run, _timestep: [run - 1]\n",
    "        ##################################\n",
    "    ]\n",
    "})\n",
    "\n",
    "simulation_3.timesteps = 1\n",
    "#### Fill in the missing code ####\n",
    "simulation_3.runs =\n",
    "##################################\n",
    "\n",
    "# Experiment execution\n",
    "df_3, _exceptions = run(simulation_3)"
   ]
  },
  {
   "cell_type": "code",
   "execution_count": null,
   "metadata": {},
   "outputs": [],
   "source": [
    "negative_inflation_base_fee_index = df_3.query('supply_inflation < 0')['run'].iloc[0]\n",
    "negative_inflation_base_fee = base_fee_process_samples[negative_inflation_base_fee_index]"
   ]
  },
  {
   "cell_type": "code",
   "execution_count": null,
   "metadata": {},
   "outputs": [],
   "source": [
    "# Answer\n",
    "answer_3 = round(negative_inflation_base_fee)\n",
    "print(f'{answer_3=}')"
   ]
  },
  {
   "cell_type": "markdown",
   "metadata": {},
   "source": [
    "## Exercise 4:\n",
    "\n",
    "If only 2/3 of all active validators are online, what change in total validator revenue can we expect over 1 year?"
   ]
  },
  {
   "cell_type": "code",
   "execution_count": null,
   "metadata": {},
   "outputs": [],
   "source": [
    "simulation_4 = copy.deepcopy(simulation)\n",
    "\n",
    "simulation_4.model.params['validator_uptime_process'].append(\n",
    "    #### Fill in the missing code ####\n",
    "    \n",
    "    ##################################\n",
    ")\n",
    "simulation_4.timesteps = constants.epochs_per_year // DELTA_TIME\n",
    "\n",
    "# Experiment execution\n",
    "df_4, _exceptions = run(simulation_4)"
   ]
  },
  {
   "cell_type": "code",
   "execution_count": null,
   "metadata": {},
   "outputs": [],
   "source": [
    "change_in_total_revenue = abs(df_4.query('subset == 0')['total_revenue'].sum() - df_4.query('subset == 1')['total_revenue'].sum())"
   ]
  },
  {
   "cell_type": "code",
   "execution_count": null,
   "metadata": {},
   "outputs": [],
   "source": [
    "answer_4 = round(change_in_total_revenue)\n",
    "print(f'{answer_4=}')"
   ]
  },
  {
   "cell_type": "markdown",
   "metadata": {},
   "source": [
    "## Exercise 5:\n",
    "\n",
    "Assuming no new validators stake / are activated, and with a base fee of 200 Gwei per gas, in which year will we have hypothetically burnt 50% of the total ETH supply?"
   ]
  },
  {
   "cell_type": "code",
   "execution_count": null,
   "metadata": {},
   "outputs": [],
   "source": [
    "simulation_5 = copy.deepcopy(simulation)\n",
    "\n",
    "simulation_5.model.params.update({\n",
    "    'dt': [constants.epochs_per_year],\n",
    "    #### Fill in the missing code ####\n",
    "    'validator_process': ,\n",
    "    'base_fee_process': ,\n",
    "    ##################################\n",
    "})\n",
    "\n",
    "#### Fill in the missing code ####\n",
    "eth_supply_initial_state = simulation_5.model.initial_state['']\n",
    "##################################\n",
    "\n",
    "# Experiment execution\n",
    "model_generator = iter(simulation_5.model)\n",
    "\n",
    "model = None\n",
    "state = {}\n",
    "\n",
    "while state.get('eth_supply', eth_supply_initial_state) >= eth_supply_initial_state * 0.5:\n",
    "    # Step to next state\n",
    "    model = next(model_generator)\n",
    "    # Update state\n",
    "    state = model.state\n",
    "\n",
    "year = state['timestamp'].year"
   ]
  },
  {
   "cell_type": "code",
   "execution_count": null,
   "metadata": {},
   "outputs": [],
   "source": [
    "# Answer\n",
    "answer_5 = year\n",
    "print(f'{answer_5=}')"
   ]
  },
  {
   "cell_type": "markdown",
   "metadata": {},
   "source": [
    "## Exercise Answers\n",
    "\n",
    "All completed [exercises](#Exercises) answers will be displayed here once their respective cells have been executed:"
   ]
  },
  {
   "cell_type": "code",
   "execution_count": null,
   "metadata": {},
   "outputs": [],
   "source": [
    "for k,v in list(locals().items()):\n",
    "    if 'answer' in k: print(f'{k}={v}')"
   ]
  }
 ],
 "metadata": {
  "kernelspec": {
   "display_name": "Python 3",
   "language": "python",
   "name": "python3"
  },
  "language_info": {
   "codemirror_mode": {
    "name": "ipython",
    "version": 3
   },
   "file_extension": ".py",
   "mimetype": "text/x-python",
   "name": "python",
   "nbconvert_exporter": "python",
   "pygments_lexer": "ipython3",
   "version": "3.8.5"
  }
 },
 "nbformat": 4,
 "nbformat_minor": 4
}
